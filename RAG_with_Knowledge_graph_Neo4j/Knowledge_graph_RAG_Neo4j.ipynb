{
  "nbformat": 4,
  "nbformat_minor": 0,
  "metadata": {
    "colab": {
      "provenance": [],
      "gpuType": "T4"
    },
    "kernelspec": {
      "name": "python3",
      "display_name": "Python 3"
    },
    "language_info": {
      "name": "python"
    },
    "widgets": {
      "application/vnd.jupyter.widget-state+json": {
        "fa2f4434de6e46fda33d1a6cc0d5507d": {
          "model_module": "yfiles-jupyter-graphs",
          "model_name": "GraphModel",
          "model_module_version": "^1.10.9",
          "state": {
            "_context_pane_mapping": [
              {
                "id": "Neighborhood",
                "title": "Neighborhood"
              },
              {
                "id": "Data",
                "title": "Data"
              },
              {
                "id": "Search",
                "title": "Search"
              },
              {
                "id": "About",
                "title": "About"
              }
            ],
            "_data_importer": "neo4j",
            "_directed": true,
            "_dom_classes": [],
            "_edges": [
              {
                "id": 1152922604118474800,
                "start": 1,
                "end": 2,
                "properties": {
                  "label": "QUEEN_OF"
                },
                "color": "#4CAF50",
                "thickness_factor": 1,
                "directed": true,
                "styles": {},
                "label": "QUEEN_OF"
              },
              {
                "id": 1155174403932160000,
                "start": 1,
                "end": 3,
                "properties": {
                  "label": "QUEEN_OF"
                },
                "color": "#4CAF50",
                "thickness_factor": 1,
                "directed": true,
                "styles": {},
                "label": "QUEEN_OF"
              },
              {
                "id": 1152923703630102500,
                "start": 1,
                "end": 4,
                "properties": {
                  "label": "MONARCH_OF"
                },
                "color": "#F44336",
                "thickness_factor": 1,
                "directed": true,
                "styles": {},
                "label": "MONARCH_OF"
              },
              {
                "id": 1152925902653358000,
                "start": 1,
                "end": 6,
                "properties": {
                  "label": "CHILD_OF"
                },
                "color": "#607D8B",
                "thickness_factor": 1,
                "directed": true,
                "styles": {},
                "label": "CHILD_OF"
              },
              {
                "id": 1155177702467043300,
                "start": 1,
                "end": 7,
                "properties": {
                  "label": "CHILD_OF"
                },
                "color": "#607D8B",
                "thickness_factor": 1,
                "directed": true,
                "styles": {},
                "label": "CHILD_OF"
              },
              {
                "id": 1152928101676613600,
                "start": 1,
                "end": 8,
                "properties": {
                  "label": "HALF_SIBLING_OF"
                },
                "color": "#673AB7",
                "thickness_factor": 1,
                "directed": true,
                "styles": {},
                "label": "HALF_SIBLING_OF"
              },
              {
                "id": 1155179901490299000,
                "start": 1,
                "end": 10,
                "properties": {
                  "label": "HALF_SIBLING_OF"
                },
                "color": "#673AB7",
                "thickness_factor": 1,
                "directed": true,
                "styles": {},
                "label": "HALF_SIBLING_OF"
              },
              {
                "id": 1152932499723124700,
                "start": 1,
                "end": 10,
                "properties": {
                  "label": "SUCCEEDED_TO_THRONE_AFTER"
                },
                "color": "#CDDC39",
                "thickness_factor": 1,
                "directed": true,
                "styles": {},
                "label": "SUCCEEDED_TO_THRONE_AFTER"
              },
              {
                "id": 1152933599234752500,
                "start": 1,
                "end": 11,
                "properties": {
                  "label": "ADVISER"
                },
                "color": "#9E9E9E",
                "thickness_factor": 1,
                "directed": true,
                "styles": {},
                "label": "ADVISER"
              },
              {
                "id": 1152934698746380300,
                "start": 1,
                "end": 12,
                "properties": {
                  "label": "ESTABLISHED"
                },
                "color": "#9C27B0",
                "thickness_factor": 1,
                "directed": true,
                "styles": {},
                "label": "ESTABLISHED"
              },
              {
                "id": 1152935798258008000,
                "start": 1,
                "end": 12,
                "properties": {
                  "label": "SUPREME_GOVERNOR_OF"
                },
                "color": "#2196F3",
                "thickness_factor": 1,
                "directed": true,
                "styles": {},
                "label": "SUPREME_GOVERNOR_OF"
              },
              {
                "id": 1152942395327774700,
                "start": 1,
                "end": 18,
                "properties": {
                  "label": "MANOEUVERED_BETWEEN"
                },
                "color": "#4CAF50",
                "thickness_factor": 1,
                "directed": true,
                "styles": {},
                "label": "MANOEUVERED_BETWEEN"
              },
              {
                "id": 1155194195141460000,
                "start": 1,
                "end": 19,
                "properties": {
                  "label": "MANOEUVERED_BETWEEN"
                },
                "color": "#4CAF50",
                "thickness_factor": 1,
                "directed": true,
                "styles": {},
                "label": "MANOEUVERED_BETWEEN"
              },
              {
                "id": 1157447094466773000,
                "start": 1,
                "end": 3,
                "properties": {
                  "label": "SUPPORTED_CAMPAIGNS_IN"
                },
                "color": "#F44336",
                "thickness_factor": 1,
                "directed": true,
                "styles": {},
                "label": "SUPPORTED_CAMPAIGNS_IN"
              },
              {
                "id": 1155195294653087700,
                "start": 1,
                "end": 18,
                "properties": {
                  "label": "SUPPORTED_CAMPAIGNS_IN"
                },
                "color": "#F44336",
                "thickness_factor": 1,
                "directed": true,
                "styles": {},
                "label": "SUPPORTED_CAMPAIGNS_IN"
              },
              {
                "id": 1152943494839402500,
                "start": 1,
                "end": 20,
                "properties": {
                  "label": "SUPPORTED_CAMPAIGNS_IN"
                },
                "color": "#F44336",
                "thickness_factor": 1,
                "directed": true,
                "styles": {},
                "label": "SUPPORTED_CAMPAIGNS_IN"
              },
              {
                "id": 6917623585641071000,
                "start": 1,
                "end": 8,
                "properties": {
                  "label": "OUTLIVED"
                },
                "color": "#607D8B",
                "thickness_factor": 1,
                "directed": true,
                "styles": {},
                "label": "OUTLIVED"
              },
              {
                "id": 6917623585641071000,
                "start": 1,
                "end": 93,
                "properties": {
                  "label": "OUTLIVED"
                },
                "color": "#607D8B",
                "thickness_factor": 1,
                "directed": true,
                "styles": {},
                "label": "OUTLIVED"
              },
              {
                "id": 6917623585641071000,
                "start": 1,
                "end": 94,
                "properties": {
                  "label": "OUTLIVED"
                },
                "color": "#607D8B",
                "thickness_factor": 1,
                "directed": true,
                "styles": {},
                "label": "OUTLIVED"
              },
              {
                "id": 6917623585641071000,
                "start": 1,
                "end": 95,
                "properties": {
                  "label": "OUTLIVED"
                },
                "color": "#607D8B",
                "thickness_factor": 1,
                "directed": true,
                "styles": {},
                "label": "OUTLIVED"
              },
              {
                "id": 6917623585641071000,
                "start": 1,
                "end": 96,
                "properties": {
                  "label": "OUTLIVED"
                },
                "color": "#607D8B",
                "thickness_factor": 1,
                "directed": true,
                "styles": {},
                "label": "OUTLIVED"
              },
              {
                "id": 6917623585641071000,
                "start": 1,
                "end": 97,
                "properties": {
                  "label": "OUTLIVED"
                },
                "color": "#607D8B",
                "thickness_factor": 1,
                "directed": true,
                "styles": {},
                "label": "OUTLIVED"
              },
              {
                "id": 6917631282222465000,
                "start": 1,
                "end": 107,
                "properties": {
                  "label": "DID_NOT_CLARIFY"
                },
                "color": "#673AB7",
                "thickness_factor": 1,
                "directed": true,
                "styles": {},
                "label": "DID_NOT_CLARIFY"
              },
              {
                "id": 1152945693862658000,
                "start": 2,
                "end": 19,
                "properties": {
                  "label": "AT_WAR_WITH"
                },
                "color": "#CDDC39",
                "thickness_factor": 1,
                "directed": true,
                "styles": {},
                "label": "AT_WAR_WITH"
              },
              {
                "id": 1153009465537069000,
                "start": 2,
                "end": 85,
                "properties": {
                  "label": "FORMED_RELATIONSHIP_WITH"
                },
                "color": "#9E9E9E",
                "thickness_factor": 1,
                "directed": true,
                "styles": {},
                "label": "FORMED_RELATIONSHIP_WITH"
              },
              {
                "id": 1152924803141730300,
                "start": 5,
                "end": 1,
                "properties": {
                  "label": "NAMED_AFTER"
                },
                "color": "#9C27B0",
                "thickness_factor": 1,
                "directed": true,
                "styles": {},
                "label": "NAMED_AFTER"
              },
              {
                "id": 1157453691536539600,
                "start": 5,
                "end": 27,
                "properties": {
                  "label": "KNOWN_FOR"
                },
                "color": "#2196F3",
                "thickness_factor": 1,
                "directed": true,
                "styles": {},
                "label": "KNOWN_FOR"
              },
              {
                "id": 1152950091909169200,
                "start": 5,
                "end": 32,
                "properties": {
                  "label": "KNOWN_FOR"
                },
                "color": "#2196F3",
                "thickness_factor": 1,
                "directed": true,
                "styles": {},
                "label": "KNOWN_FOR"
              },
              {
                "id": 1155201891722854400,
                "start": 5,
                "end": 33,
                "properties": {
                  "label": "KNOWN_FOR"
                },
                "color": "#2196F3",
                "thickness_factor": 1,
                "directed": true,
                "styles": {},
                "label": "KNOWN_FOR"
              },
              {
                "id": 1152927002164985900,
                "start": 6,
                "end": 7,
                "properties": {
                  "label": "SPOUSE_OF"
                },
                "color": "#4CAF50",
                "thickness_factor": 1,
                "directed": true,
                "styles": {},
                "label": "SPOUSE_OF"
              },
              {
                "id": 1152955589467308000,
                "start": 6,
                "end": 22,
                "properties": {
                  "label": "PARENT_OF"
                },
                "color": "#F44336",
                "thickness_factor": 1,
                "directed": true,
                "styles": {},
                "label": "PARENT_OF"
              },
              {
                "id": 1153013863583580200,
                "start": 6,
                "end": 1,
                "properties": {
                  "label": "FATHER_OF"
                },
                "color": "#607D8B",
                "thickness_factor": 1,
                "directed": true,
                "styles": {},
                "label": "FATHER_OF"
              },
              {
                "id": 1157518562722578400,
                "start": 6,
                "end": 1,
                "properties": {
                  "label": "NAMED_IN_WILL"
                },
                "color": "#673AB7",
                "thickness_factor": 1,
                "directed": true,
                "styles": {},
                "label": "NAMED_IN_WILL"
              },
              {
                "id": 1153014963095208000,
                "start": 6,
                "end": 8,
                "properties": {
                  "label": "NAMED_IN_WILL"
                },
                "color": "#673AB7",
                "thickness_factor": 1,
                "directed": true,
                "styles": {},
                "label": "NAMED_IN_WILL"
              },
              {
                "id": 1155266762908893200,
                "start": 6,
                "end": 93,
                "properties": {
                  "label": "NAMED_IN_WILL"
                },
                "color": "#673AB7",
                "thickness_factor": 1,
                "directed": true,
                "styles": {},
                "label": "NAMED_IN_WILL"
              },
              {
                "id": 1159770362536263700,
                "start": 6,
                "end": 94,
                "properties": {
                  "label": "NAMED_IN_WILL"
                },
                "color": "#673AB7",
                "thickness_factor": 1,
                "directed": true,
                "styles": {},
                "label": "NAMED_IN_WILL"
              },
              {
                "id": 1162022162349949000,
                "start": 6,
                "end": 95,
                "properties": {
                  "label": "NAMED_IN_WILL"
                },
                "color": "#673AB7",
                "thickness_factor": 1,
                "directed": true,
                "styles": {},
                "label": "NAMED_IN_WILL"
              },
              {
                "id": 1164273962163634200,
                "start": 6,
                "end": 96,
                "properties": {
                  "label": "NAMED_IN_WILL"
                },
                "color": "#673AB7",
                "thickness_factor": 1,
                "directed": true,
                "styles": {},
                "label": "NAMED_IN_WILL"
              },
              {
                "id": 1166525761977319400,
                "start": 6,
                "end": 97,
                "properties": {
                  "label": "NAMED_IN_WILL"
                },
                "color": "#673AB7",
                "thickness_factor": 1,
                "directed": true,
                "styles": {},
                "label": "NAMED_IN_WILL"
              },
              {
                "id": 1153018261630091300,
                "start": 6,
                "end": 105,
                "properties": {
                  "label": "WILL_PERTAINS_TO"
                },
                "color": "#CDDC39",
                "thickness_factor": 1,
                "directed": true,
                "styles": {},
                "label": "WILL_PERTAINS_TO"
              },
              {
                "id": 1152955589467308000,
                "start": 7,
                "end": 22,
                "properties": {
                  "label": "PARENT_OF"
                },
                "color": "#F44336",
                "thickness_factor": 1,
                "directed": true,
                "styles": {},
                "label": "PARENT_OF"
              },
              {
                "id": 1152929201188241400,
                "start": 8,
                "end": 9,
                "properties": {
                  "label": "DESIGNATED_SUCCESSOR"
                },
                "color": "#9E9E9E",
                "thickness_factor": 1,
                "directed": true,
                "styles": {},
                "label": "DESIGNATED_SUCCESSOR"
              },
              {
                "id": 1152930300699869200,
                "start": 10,
                "end": 9,
                "properties": {
                  "label": "DEPOSED"
                },
                "color": "#9C27B0",
                "thickness_factor": 1,
                "directed": true,
                "styles": {},
                "label": "DEPOSED"
              },
              {
                "id": 1152931400211497000,
                "start": 10,
                "end": 1,
                "properties": {
                  "label": "IMPRISONED"
                },
                "color": "#2196F3",
                "thickness_factor": 1,
                "directed": true,
                "styles": {},
                "label": "IMPRISONED"
              },
              {
                "id": 1152936897769635800,
                "start": 12,
                "end": 13,
                "properties": {
                  "label": "LATER_NAMED"
                },
                "color": "#4CAF50",
                "thickness_factor": 1,
                "directed": true,
                "styles": {},
                "label": "LATER_NAMED"
              },
              {
                "id": 1152937997281263600,
                "start": 13,
                "end": 14,
                "properties": {
                  "label": "EVOLVED_INTO"
                },
                "color": "#F44336",
                "thickness_factor": 1,
                "directed": true,
                "styles": {},
                "label": "EVOLVED_INTO"
              },
              {
                "id": 1152939096792891400,
                "start": 15,
                "end": 1,
                "properties": {
                  "label": "SUCCEEDED"
                },
                "color": "#607D8B",
                "thickness_factor": 1,
                "directed": true,
                "styles": {},
                "label": "SUCCEEDED"
              },
              {
                "id": 1153005067490558000,
                "start": 15,
                "end": 85,
                "properties": {
                  "label": "FROM"
                },
                "color": "#673AB7",
                "thickness_factor": 1,
                "directed": true,
                "styles": {},
                "label": "FROM"
              },
              {
                "id": 1152940196304519200,
                "start": 16,
                "end": 1,
                "properties": {
                  "label": "DECLARED_ILLEGITIMATE"
                },
                "color": "#CDDC39",
                "thickness_factor": 1,
                "directed": true,
                "styles": {},
                "label": "DECLARED_ILLEGITIMATE"
              },
              {
                "id": 1152941295816147000,
                "start": 17,
                "end": 1,
                "properties": {
                  "label": "RAN_SECRET_SERVICE_FOR"
                },
                "color": "#9E9E9E",
                "thickness_factor": 1,
                "directed": true,
                "styles": {},
                "label": "RAN_SECRET_SERVICE_FOR"
              }
            ],
            "_graph_layout": {},
            "_highlight": [],
            "_license": {},
            "_model_module": "yfiles-jupyter-graphs",
            "_model_module_version": "^1.10.9",
            "_model_name": "GraphModel",
            "_neighborhood": {},
            "_nodes": [
              {
                "id": 1,
                "properties": {
                  "id": "Elizabeth I",
                  "label": "Person:__Entity__"
                },
                "color": "#2196F3",
                "styles": {},
                "label": "Elizabeth I",
                "scale_factor": 1,
                "type": "#2196F3",
                "size": [
                  55,
                  55
                ],
                "position": [
                  0,
                  0
                ]
              },
              {
                "id": 2,
                "properties": {
                  "id": "England",
                  "label": "Country:Location:__Entity__"
                },
                "color": "#4CAF50",
                "styles": {},
                "label": "England",
                "scale_factor": 1,
                "type": "#4CAF50",
                "size": [
                  55,
                  55
                ],
                "position": [
                  0,
                  0
                ]
              },
              {
                "id": 3,
                "properties": {
                  "id": "Ireland",
                  "label": "Country:Location:__Entity__"
                },
                "color": "#4CAF50",
                "styles": {},
                "label": "Ireland",
                "scale_factor": 1,
                "type": "#4CAF50",
                "size": [
                  55,
                  55
                ],
                "position": [
                  0,
                  0
                ]
              },
              {
                "id": 4,
                "properties": {
                  "id": "House Of Tudor",
                  "label": "Family:__Entity__"
                },
                "color": "#F44336",
                "styles": {},
                "label": "House Of Tudor",
                "scale_factor": 1,
                "type": "#F44336",
                "size": [
                  55,
                  55
                ],
                "position": [
                  0,
                  0
                ]
              },
              {
                "id": 6,
                "properties": {
                  "id": "Henry Viii",
                  "label": "Person:__Entity__"
                },
                "color": "#2196F3",
                "styles": {},
                "label": "Henry Viii",
                "scale_factor": 1,
                "type": "#2196F3",
                "size": [
                  55,
                  55
                ],
                "position": [
                  0,
                  0
                ]
              },
              {
                "id": 7,
                "properties": {
                  "id": "Anne Boleyn",
                  "label": "Person:__Entity__"
                },
                "color": "#2196F3",
                "styles": {},
                "label": "Anne Boleyn",
                "scale_factor": 1,
                "type": "#2196F3",
                "size": [
                  55,
                  55
                ],
                "position": [
                  0,
                  0
                ]
              },
              {
                "id": 8,
                "properties": {
                  "id": "Edward Vi",
                  "label": "Person:__Entity__"
                },
                "color": "#2196F3",
                "styles": {},
                "label": "Edward Vi",
                "scale_factor": 1,
                "type": "#2196F3",
                "size": [
                  55,
                  55
                ],
                "position": [
                  0,
                  0
                ]
              },
              {
                "id": 10,
                "properties": {
                  "id": "Mary",
                  "label": "Person:__Entity__"
                },
                "color": "#2196F3",
                "styles": {},
                "label": "Mary",
                "scale_factor": 1,
                "type": "#2196F3",
                "size": [
                  55,
                  55
                ],
                "position": [
                  0,
                  0
                ]
              },
              {
                "id": 11,
                "properties": {
                  "id": "William Cecil",
                  "label": "Person:__Entity__"
                },
                "color": "#2196F3",
                "styles": {},
                "label": "William Cecil",
                "scale_factor": 1,
                "type": "#2196F3",
                "size": [
                  55,
                  55
                ],
                "position": [
                  0,
                  0
                ]
              },
              {
                "id": 12,
                "properties": {
                  "id": "English Protestant Church",
                  "label": "Organization:__Entity__"
                },
                "color": "#607D8B",
                "styles": {},
                "label": "English Protestant Church",
                "scale_factor": 1,
                "type": "#607D8B",
                "size": [
                  55,
                  55
                ],
                "position": [
                  0,
                  0
                ]
              },
              {
                "id": 18,
                "properties": {
                  "id": "France",
                  "label": "Country:Location:__Entity__"
                },
                "color": "#4CAF50",
                "styles": {},
                "label": "France",
                "scale_factor": 1,
                "type": "#4CAF50",
                "size": [
                  55,
                  55
                ],
                "position": [
                  0,
                  0
                ]
              },
              {
                "id": 19,
                "properties": {
                  "id": "Spain",
                  "label": "Country:__Entity__"
                },
                "color": "#673AB7",
                "styles": {},
                "label": "Spain",
                "scale_factor": 1,
                "type": "#673AB7",
                "size": [
                  55,
                  55
                ],
                "position": [
                  0,
                  0
                ]
              },
              {
                "id": 20,
                "properties": {
                  "id": "Netherlands",
                  "label": "Country:Location:__Entity__"
                },
                "color": "#4CAF50",
                "styles": {},
                "label": "Netherlands",
                "scale_factor": 1,
                "type": "#4CAF50",
                "size": [
                  55,
                  55
                ],
                "position": [
                  0,
                  0
                ]
              },
              {
                "id": 93,
                "properties": {
                  "id": "Mary I",
                  "label": "Person:__Entity__"
                },
                "color": "#2196F3",
                "styles": {},
                "label": "Mary I",
                "scale_factor": 1,
                "type": "#2196F3",
                "size": [
                  55,
                  55
                ],
                "position": [
                  0,
                  0
                ]
              },
              {
                "id": 94,
                "properties": {
                  "id": "Jane Grey",
                  "label": "Person:__Entity__"
                },
                "color": "#2196F3",
                "styles": {},
                "label": "Jane Grey",
                "scale_factor": 1,
                "type": "#2196F3",
                "size": [
                  55,
                  55
                ],
                "position": [
                  0,
                  0
                ]
              },
              {
                "id": 95,
                "properties": {
                  "id": "Katherine Grey",
                  "label": "Person:__Entity__"
                },
                "color": "#2196F3",
                "styles": {},
                "label": "Katherine Grey",
                "scale_factor": 1,
                "type": "#2196F3",
                "size": [
                  55,
                  55
                ],
                "position": [
                  0,
                  0
                ]
              },
              {
                "id": 96,
                "properties": {
                  "id": "Mary Grey",
                  "label": "Person:__Entity__"
                },
                "color": "#2196F3",
                "styles": {},
                "label": "Mary Grey",
                "scale_factor": 1,
                "type": "#2196F3",
                "size": [
                  55,
                  55
                ],
                "position": [
                  0,
                  0
                ]
              },
              {
                "id": 97,
                "properties": {
                  "id": "Margaret Clifford",
                  "label": "Person:__Entity__"
                },
                "color": "#2196F3",
                "styles": {},
                "label": "Margaret Clifford",
                "scale_factor": 1,
                "type": "#2196F3",
                "size": [
                  55,
                  55
                ],
                "position": [
                  0,
                  0
                ]
              },
              {
                "id": 107,
                "properties": {
                  "id": "Tudor Dynastic Issues",
                  "label": "__Entity__:Concept"
                },
                "color": "#CDDC39",
                "styles": {},
                "label": "Tudor Dynastic Issues",
                "scale_factor": 1,
                "type": "#CDDC39",
                "size": [
                  55,
                  55
                ],
                "position": [
                  0,
                  0
                ]
              },
              {
                "id": 85,
                "properties": {
                  "id": "Scotland",
                  "label": "Location:__Entity__"
                },
                "color": "#9E9E9E",
                "styles": {},
                "label": "Scotland",
                "scale_factor": 1,
                "type": "#9E9E9E",
                "size": [
                  55,
                  55
                ],
                "position": [
                  0,
                  0
                ]
              },
              {
                "id": 5,
                "properties": {
                  "id": "Elizabethan Era",
                  "label": "Era:__Entity__"
                },
                "color": "#9C27B0",
                "styles": {},
                "label": "Elizabethan Era",
                "scale_factor": 1,
                "type": "#9C27B0",
                "size": [
                  55,
                  55
                ],
                "position": [
                  0,
                  0
                ]
              },
              {
                "id": 27,
                "properties": {
                  "id": "Spanish Armada",
                  "label": "Event:__Entity__"
                },
                "color": "#2196F3",
                "styles": {},
                "label": "Spanish Armada",
                "scale_factor": 1,
                "type": "#2196F3",
                "size": [
                  55,
                  55
                ],
                "position": [
                  0,
                  0
                ]
              },
              {
                "id": 32,
                "properties": {
                  "id": "English Drama",
                  "label": "__Entity__:Concept"
                },
                "color": "#CDDC39",
                "styles": {},
                "label": "English Drama",
                "scale_factor": 1,
                "type": "#CDDC39",
                "size": [
                  55,
                  55
                ],
                "position": [
                  0,
                  0
                ]
              },
              {
                "id": 33,
                "properties": {
                  "id": "English Maritime Adventurers",
                  "label": "__Entity__:Concept"
                },
                "color": "#CDDC39",
                "styles": {},
                "label": "English Maritime Adventurers",
                "scale_factor": 1,
                "type": "#CDDC39",
                "size": [
                  55,
                  55
                ],
                "position": [
                  0,
                  0
                ]
              },
              {
                "id": 22,
                "properties": {
                  "id": "Elizabeth",
                  "label": "Person:__Entity__"
                },
                "color": "#2196F3",
                "styles": {},
                "label": "Elizabeth",
                "scale_factor": 1,
                "type": "#2196F3",
                "size": [
                  55,
                  55
                ],
                "position": [
                  0,
                  0
                ]
              },
              {
                "id": 105,
                "properties": {
                  "id": "Succession",
                  "label": "__Entity__:Concept"
                },
                "color": "#CDDC39",
                "styles": {},
                "label": "Succession",
                "scale_factor": 1,
                "type": "#CDDC39",
                "size": [
                  55,
                  55
                ],
                "position": [
                  0,
                  0
                ]
              },
              {
                "id": 9,
                "properties": {
                  "id": "Lady Jane Grey",
                  "label": "Person:__Entity__"
                },
                "color": "#2196F3",
                "styles": {},
                "label": "Lady Jane Grey",
                "scale_factor": 1,
                "type": "#2196F3",
                "size": [
                  55,
                  55
                ],
                "position": [
                  0,
                  0
                ]
              },
              {
                "id": 13,
                "properties": {
                  "id": "Elizabethan Religious Settlement",
                  "label": "__Entity__:Concept"
                },
                "color": "#CDDC39",
                "styles": {},
                "label": "Elizabethan Religious Settlement",
                "scale_factor": 1,
                "type": "#CDDC39",
                "size": [
                  55,
                  55
                ],
                "position": [
                  0,
                  0
                ]
              },
              {
                "id": 14,
                "properties": {
                  "id": "Church Of England",
                  "label": "Organization:__Entity__"
                },
                "color": "#607D8B",
                "styles": {},
                "label": "Church Of England",
                "scale_factor": 1,
                "type": "#607D8B",
                "size": [
                  55,
                  55
                ],
                "position": [
                  0,
                  0
                ]
              },
              {
                "id": 15,
                "properties": {
                  "id": "James Vi Of Scotland",
                  "label": "Person:__Entity__"
                },
                "color": "#2196F3",
                "styles": {},
                "label": "James Vi Of Scotland",
                "scale_factor": 1,
                "type": "#2196F3",
                "size": [
                  55,
                  55
                ],
                "position": [
                  0,
                  0
                ]
              },
              {
                "id": 16,
                "properties": {
                  "id": "Pope",
                  "label": "Person:__Entity__"
                },
                "color": "#2196F3",
                "styles": {},
                "label": "Pope",
                "scale_factor": 1,
                "type": "#2196F3",
                "size": [
                  55,
                  55
                ],
                "position": [
                  0,
                  0
                ]
              },
              {
                "id": 17,
                "properties": {
                  "id": "Francis Walsingham",
                  "label": "Person:__Entity__"
                },
                "color": "#2196F3",
                "styles": {},
                "label": "Francis Walsingham",
                "scale_factor": 1,
                "type": "#2196F3",
                "size": [
                  55,
                  55
                ],
                "position": [
                  0,
                  0
                ]
              }
            ],
            "_overview": {
              "enabled": null,
              "overview_set": false
            },
            "_selected_graph": [
              [],
              []
            ],
            "_sidebar": {
              "enabled": false,
              "start_with": null
            },
            "_view_count": null,
            "_view_module": "yfiles-jupyter-graphs",
            "_view_module_version": "^1.10.9",
            "_view_name": "GraphView",
            "layout": "IPY_MODEL_9f2b3260fa00481f9de3a3230441b3dc"
          }
        },
        "9f2b3260fa00481f9de3a3230441b3dc": {
          "model_module": "@jupyter-widgets/base",
          "model_name": "LayoutModel",
          "model_module_version": "1.2.0",
          "state": {
            "_model_module": "@jupyter-widgets/base",
            "_model_module_version": "1.2.0",
            "_model_name": "LayoutModel",
            "_view_count": null,
            "_view_module": "@jupyter-widgets/base",
            "_view_module_version": "1.2.0",
            "_view_name": "LayoutView",
            "align_content": null,
            "align_items": null,
            "align_self": null,
            "border": null,
            "bottom": null,
            "display": null,
            "flex": null,
            "flex_flow": null,
            "grid_area": null,
            "grid_auto_columns": null,
            "grid_auto_flow": null,
            "grid_auto_rows": null,
            "grid_column": null,
            "grid_gap": null,
            "grid_row": null,
            "grid_template_areas": null,
            "grid_template_columns": null,
            "grid_template_rows": null,
            "height": "800px",
            "justify_content": null,
            "justify_items": null,
            "left": null,
            "margin": null,
            "max_height": null,
            "max_width": null,
            "min_height": null,
            "min_width": null,
            "object_fit": null,
            "object_position": null,
            "order": null,
            "overflow": null,
            "overflow_x": null,
            "overflow_y": null,
            "padding": null,
            "right": null,
            "top": null,
            "visibility": null,
            "width": "100%"
          }
        }
      }
    },
    "accelerator": "GPU"
  },
  "cells": [
    {
      "cell_type": "code",
      "execution_count": 1,
      "metadata": {
        "id": "rDkTKyHT9V1m",
        "colab": {
          "base_uri": "https://localhost:8080/"
        },
        "collapsed": true,
        "outputId": "de32820e-b9e7-4768-8597-e01d98378005"
      },
      "outputs": [
        {
          "output_type": "stream",
          "name": "stdout",
          "text": [
            "  Preparing metadata (setup.py) ... \u001b[?25l\u001b[?25hdone\n",
            "\u001b[2K   \u001b[90m━━━━━━━━━━━━━━━━━━━━━━━━━━━━━━━━━━━━━━━━\u001b[0m \u001b[32m2.5/2.5 MB\u001b[0m \u001b[31m27.9 MB/s\u001b[0m eta \u001b[36m0:00:00\u001b[0m\n",
            "\u001b[2K   \u001b[90m━━━━━━━━━━━━━━━━━━━━━━━━━━━━━━━━━━━━━━━━\u001b[0m \u001b[32m209.2/209.2 kB\u001b[0m \u001b[31m16.7 MB/s\u001b[0m eta \u001b[36m0:00:00\u001b[0m\n",
            "\u001b[2K   \u001b[90m━━━━━━━━━━━━━━━━━━━━━━━━━━━━━━━━━━━━━━━━\u001b[0m \u001b[32m49.4/49.4 kB\u001b[0m \u001b[31m4.4 MB/s\u001b[0m eta \u001b[36m0:00:00\u001b[0m\n",
            "\u001b[2K   \u001b[90m━━━━━━━━━━━━━━━━━━━━━━━━━━━━━━━━━━━━━━━━\u001b[0m \u001b[32m313.2/313.2 kB\u001b[0m \u001b[31m25.6 MB/s\u001b[0m eta \u001b[36m0:00:00\u001b[0m\n",
            "\u001b[2K   \u001b[90m━━━━━━━━━━━━━━━━━━━━━━━━━━━━━━━━━━━━━━━━\u001b[0m \u001b[32m15.7/15.7 MB\u001b[0m \u001b[31m49.4 MB/s\u001b[0m eta \u001b[36m0:00:00\u001b[0m\n",
            "\u001b[2K   \u001b[90m━━━━━━━━━━━━━━━━━━━━━━━━━━━━━━━━━━━━━━━━\u001b[0m \u001b[32m1.4/1.4 MB\u001b[0m \u001b[31m41.2 MB/s\u001b[0m eta \u001b[36m0:00:00\u001b[0m\n",
            "\u001b[2K   \u001b[90m━━━━━━━━━━━━━━━━━━━━━━━━━━━━━━━━━━━━━━━━\u001b[0m \u001b[32m64.7/64.7 kB\u001b[0m \u001b[31m3.7 MB/s\u001b[0m eta \u001b[36m0:00:00\u001b[0m\n",
            "\u001b[2K   \u001b[90m━━━━━━━━━━━━━━━━━━━━━━━━━━━━━━━━━━━━━━━━\u001b[0m \u001b[32m50.9/50.9 kB\u001b[0m \u001b[31m3.2 MB/s\u001b[0m eta \u001b[36m0:00:00\u001b[0m\n",
            "\u001b[2K   \u001b[90m━━━━━━━━━━━━━━━━━━━━━━━━━━━━━━━━━━━━━━━━\u001b[0m \u001b[32m1.6/1.6 MB\u001b[0m \u001b[31m63.7 MB/s\u001b[0m eta \u001b[36m0:00:00\u001b[0m\n",
            "\u001b[?25h  Building wheel for wikipedia (setup.py) ... \u001b[?25l\u001b[?25hdone\n",
            "\u001b[31mERROR: pip's dependency resolver does not currently take into account all the packages that are installed. This behaviour is the source of the following dependency conflicts.\n",
            "google-colab 1.0.0 requires requests==2.32.4, but you have requests 2.32.5 which is incompatible.\n",
            "google-generativeai 0.8.5 requires google-ai-generativelanguage==0.6.15, but you have google-ai-generativelanguage 0.6.18 which is incompatible.\u001b[0m\u001b[31m\n",
            "\u001b[0m"
          ]
        }
      ],
      "source": [
        "!pip install --upgrade langchain langchain-community langchain_experimental langchain-google-genai neo4j wikipedia yfiles_jupyter_graphs -q"
      ]
    },
    {
      "cell_type": "code",
      "source": [
        "from google.colab import userdata\n",
        "\n",
        "NEO4J_URI = userdata.get(\"NEO4J_URI\")\n",
        "NEO4J_USERNAME = userdata.get(\"NEO4J_USERNAME\")\n",
        "NEO4J_PASSWORD = userdata.get(\"NEO4J_PASSWORD\")\n",
        "NEO4J_DATABASE = userdata.get(\"NEO4J_DATABASE\")\n",
        "GOOGLE_API_KEY = userdata.get(\"GOOGLE_API_KEY\")"
      ],
      "metadata": {
        "id": "lf_Jrs-X1mZd"
      },
      "execution_count": 2,
      "outputs": []
    },
    {
      "cell_type": "code",
      "source": [
        "import os\n",
        "os.environ[\"NEO4J_URI\"] = NEO4J_URI\n",
        "os.environ[\"NEO4J_USERNAME\"] = NEO4J_USERNAME\n",
        "os.environ[\"NEO4J_PASSWORD\"] = NEO4J_PASSWORD\n",
        "os.environ[\"GOOGLE_API_KEY\"] = GOOGLE_API_KEY\n",
        "os.environ[\"NEO4J_DATABASE\"] = NEO4J_DATABASE"
      ],
      "metadata": {
        "id": "DbMlqD-c_n-x"
      },
      "execution_count": 3,
      "outputs": []
    },
    {
      "cell_type": "code",
      "source": [
        "from langchain_core.runnables import (\n",
        "    RunnableBranch,\n",
        "    RunnableLambda,\n",
        "    RunnableParallel,\n",
        "    RunnablePassthrough,\n",
        ")\n",
        "from typing import Tuple, List, Optional\n",
        "from langchain_core.messages import AIMessage, HumanMessage\n",
        "from langchain_core.output_parsers import StrOutputParser\n",
        "from yfiles_jupyter_graphs import GraphWidget\n",
        "from neo4j import GraphDatabase"
      ],
      "metadata": {
        "id": "F8VUuTOK0d8q"
      },
      "execution_count": 4,
      "outputs": []
    },
    {
      "cell_type": "code",
      "source": [
        "import os\n",
        "try:\n",
        "  import google.colab\n",
        "  from google.colab import output\n",
        "  output.enable_custom_widget_manager()\n",
        "except:\n",
        "  pass"
      ],
      "metadata": {
        "id": "b8Cw9nE3402I"
      },
      "execution_count": 5,
      "outputs": []
    },
    {
      "cell_type": "markdown",
      "source": [
        "# Graph Creation"
      ],
      "metadata": {
        "id": "Egfmv_CEI5Zb"
      }
    },
    {
      "cell_type": "code",
      "source": [
        "from langchain_community.graphs import Neo4jGraph\n",
        "\n",
        "graph = Neo4jGraph()\n",
        "\n",
        "print(graph.schema)"
      ],
      "metadata": {
        "colab": {
          "base_uri": "https://localhost:8080/"
        },
        "id": "BqvqRXKh24Qe",
        "outputId": "5a86de90-73ea-4be3-e968-f2b4a5d22034"
      },
      "execution_count": 6,
      "outputs": [
        {
          "output_type": "stream",
          "name": "stderr",
          "text": [
            "/tmp/ipython-input-3367652112.py:3: LangChainDeprecationWarning: The class `Neo4jGraph` was deprecated in LangChain 0.3.8 and will be removed in 1.0. An updated version of the class exists in the :class:`~langchain-neo4j package and should be used instead. To use it run `pip install -U :class:`~langchain-neo4j` and import as `from :class:`~langchain_neo4j import Neo4jGraph``.\n",
            "  graph = Neo4jGraph()\n"
          ]
        },
        {
          "output_type": "stream",
          "name": "stdout",
          "text": [
            "Node properties:\n",
            "\n",
            "Relationship properties:\n",
            "\n",
            "The relationships:\n",
            "\n"
          ]
        }
      ]
    },
    {
      "cell_type": "markdown",
      "source": [
        "## Data loading"
      ],
      "metadata": {
        "id": "jh1AJfPGJANU"
      }
    },
    {
      "cell_type": "code",
      "source": [
        "from langchain.document_loaders import WikipediaLoader\n",
        "raw_documents = WikipediaLoader(query=\"Elizabeth I\").load()"
      ],
      "metadata": {
        "colab": {
          "base_uri": "https://localhost:8080/"
        },
        "id": "0dcSlRMx4wmC",
        "outputId": "a18cef9f-5e2a-4278-8cd2-b7d67fb0733b"
      },
      "execution_count": 7,
      "outputs": [
        {
          "output_type": "stream",
          "name": "stderr",
          "text": [
            "/usr/local/lib/python3.12/dist-packages/wikipedia/wikipedia.py:389: GuessedAtParserWarning: No parser was explicitly specified, so I'm using the best available HTML parser for this system (\"lxml\"). This usually isn't a problem, but if you run this code on another system, or in a different virtual environment, it may use a different parser and behave differently.\n",
            "\n",
            "The code that caused this warning is on line 389 of the file /usr/local/lib/python3.12/dist-packages/wikipedia/wikipedia.py. To get rid of this warning, pass the additional argument 'features=\"lxml\"' to the BeautifulSoup constructor.\n",
            "\n",
            "  lis = BeautifulSoup(html).find_all('li')\n"
          ]
        }
      ]
    },
    {
      "cell_type": "code",
      "source": [
        "len(raw_documents)"
      ],
      "metadata": {
        "colab": {
          "base_uri": "https://localhost:8080/"
        },
        "id": "-JAZfxhNG0pH",
        "outputId": "d86093a3-5f34-4919-98b6-35201faa3398"
      },
      "execution_count": 8,
      "outputs": [
        {
          "output_type": "execute_result",
          "data": {
            "text/plain": [
              "23"
            ]
          },
          "metadata": {},
          "execution_count": 8
        }
      ]
    },
    {
      "cell_type": "code",
      "source": [
        "raw_documents[0]"
      ],
      "metadata": {
        "colab": {
          "base_uri": "https://localhost:8080/"
        },
        "id": "X3k6xibnG2He",
        "outputId": "ea6f0521-ed15-415c-93a7-50fe7fefa315"
      },
      "execution_count": 9,
      "outputs": [
        {
          "output_type": "execute_result",
          "data": {
            "text/plain": [
              "Document(metadata={'title': 'Elizabeth I', 'summary': 'Elizabeth I (7 September 1533 – 24 March 1603) was Queen of England and Ireland from 17 November 1558 until her death in 1603. She was the last and longest reigning monarch of the House of Tudor. Her eventful reign, and its effect on history and culture, gave name to the Elizabethan era.\\nElizabeth was the only surviving child of Henry VIII and his second wife, Anne Boleyn. When Elizabeth was two years old, her parents\\' marriage was annulled, her mother was executed, and Elizabeth was declared illegitimate. Henry restored her to the line of succession when she was 10. After Henry\\'s death in 1547, Elizabeth\\'s younger half-brother Edward VI ruled until his own death in 1553, bequeathing the crown to a Protestant cousin, Lady Jane Grey, and ignoring the claims of his two half-sisters, Mary and Elizabeth, despite statutes to the contrary. Edward\\'s will was quickly set aside and the Catholic Mary became queen, deposing Jane. During Mary\\'s reign, Elizabeth was imprisoned for nearly a year on suspicion of supporting Protestant rebels.\\nUpon Mary\\'s 1558 death, Elizabeth succeeded to the throne and set out to rule by good counsel. She depended heavily on a group of trusted advisers led by William Cecil, whom she created Baron Burghley. One of her first actions as queen was the establishment of an English Protestant church, of which she became the supreme governor. This arrangement, later named the Elizabethan Religious Settlement, would evolve into the Church of England. It was expected that Elizabeth would marry and produce an heir; however, despite numerous courtships, she never did. Because of this she is sometimes referred to as the \"Virgin Queen\". She was succeeded by her cousin, James VI of Scotland.\\nIn government, Elizabeth was more moderate than her father and siblings had been. One of her mottoes was video et taceo (\"I see and keep silent\"). In religion, she was relatively tolerant and avoided systematic persecution. After the pope declared her illegitimate in 1570, which in theory released English Catholics from allegiance to her, several conspiracies threatened her life, all of which were defeated with the help of her ministers\\' secret service, run by Francis Walsingham. Elizabeth was cautious in foreign affairs, manoeuvring between the major powers of France and Spain. She half-heartedly supported a number of ineffective, poorly resourced military campaigns in the Netherlands, France, and Ireland. By the mid-1580s, England could no longer avoid war with Spain.\\nAs she grew older, Elizabeth became celebrated for her virginity. A cult of personality grew around her which was celebrated in the portraits, pageants, and literature of the day. The Elizabethan era is famous for the flourishing of English drama, led by playwrights such as William Shakespeare and Christopher Marlowe, the prowess of English maritime adventurers, such as Francis Drake and Walter Raleigh, and for the defeat of the Spanish Armada. Some historians depict Elizabeth as a short-tempered, sometimes indecisive ruler, who enjoyed more than her fair share of luck. Towards the end of her reign, a series of economic and military problems weakened her popularity. Elizabeth is acknowledged as a charismatic performer and a dogged survivor in an era when government was ramshackle and limited, and when monarchs in neighbouring countries faced internal problems and religious civil wars that jeopardised their thrones. After the short, disastrous reigns of her half-siblings, her 44 years on the throne provided welcome stability for the kingdom and helped to forge a sense of national identity.', 'source': 'https://en.wikipedia.org/wiki/Elizabeth_I'}, page_content='Elizabeth I (7 September 1533 – 24 March 1603) was Queen of England and Ireland from 17 November 1558 until her death in 1603. She was the last and longest reigning monarch of the House of Tudor. Her eventful reign, and its effect on history and culture, gave name to the Elizabethan era.\\nElizabeth was the only surviving child of Henry VIII and his second wife, Anne Boleyn. When Elizabeth was two years old, her parents\\' marriage was annulled, her mother was executed, and Elizabeth was declared illegitimate. Henry restored her to the line of succession when she was 10. After Henry\\'s death in 1547, Elizabeth\\'s younger half-brother Edward VI ruled until his own death in 1553, bequeathing the crown to a Protestant cousin, Lady Jane Grey, and ignoring the claims of his two half-sisters, Mary and Elizabeth, despite statutes to the contrary. Edward\\'s will was quickly set aside and the Catholic Mary became queen, deposing Jane. During Mary\\'s reign, Elizabeth was imprisoned for nearly a year on suspicion of supporting Protestant rebels.\\nUpon Mary\\'s 1558 death, Elizabeth succeeded to the throne and set out to rule by good counsel. She depended heavily on a group of trusted advisers led by William Cecil, whom she created Baron Burghley. One of her first actions as queen was the establishment of an English Protestant church, of which she became the supreme governor. This arrangement, later named the Elizabethan Religious Settlement, would evolve into the Church of England. It was expected that Elizabeth would marry and produce an heir; however, despite numerous courtships, she never did. Because of this she is sometimes referred to as the \"Virgin Queen\". She was succeeded by her cousin, James VI of Scotland.\\nIn government, Elizabeth was more moderate than her father and siblings had been. One of her mottoes was video et taceo (\"I see and keep silent\"). In religion, she was relatively tolerant and avoided systematic persecution. After the pope declared her illegitimate in 1570, which in theory released English Catholics from allegiance to her, several conspiracies threatened her life, all of which were defeated with the help of her ministers\\' secret service, run by Francis Walsingham. Elizabeth was cautious in foreign affairs, manoeuvring between the major powers of France and Spain. She half-heartedly supported a number of ineffective, poorly resourced military campaigns in the Netherlands, France, and Ireland. By the mid-1580s, England could no longer avoid war with Spain.\\nAs she grew older, Elizabeth became celebrated for her virginity. A cult of personality grew around her which was celebrated in the portraits, pageants, and literature of the day. The Elizabethan era is famous for the flourishing of English drama, led by playwrights such as William Shakespeare and Christopher Marlowe, the prowess of English maritime adventurers, such as Francis Drake and Walter Raleigh, and for the defeat of the Spanish Armada. Some historians depict Elizabeth as a short-tempered, sometimes indecisive ruler, who enjoyed more than her fair share of luck. Towards the end of her reign, a series of economic and military problems weakened her popularity. Elizabeth is acknowledged as a charismatic performer and a dogged survivor in an era when government was ramshackle and limited, and when monarchs in neighbouring countries faced internal problems and religious civil wars that jeopardised their thrones. After the short, disastrous reigns of her half-siblings, her 44 years on the throne provided welcome stability for the kingdom and helped to forge a sense of national identity.\\n\\n\\n== Early life ==\\n\\nElizabeth was born at Greenwich Palace on 7 September 1533 and was named after her grandmothers, Elizabeth of York and Lady Elizabeth Howard. She was the second child of Henry VIII of England born in wedlock to survive infancy. Her mother was Henry VIII\\'s second wife, Anne Boleyn. At birth, Elizabeth was the heir presumptive to the English throne. Her elder half-sis')"
            ]
          },
          "metadata": {},
          "execution_count": 9
        }
      ]
    },
    {
      "cell_type": "markdown",
      "source": [
        "## Data Processing"
      ],
      "metadata": {
        "id": "ArH6i5tIJKDq"
      }
    },
    {
      "cell_type": "code",
      "source": [
        "from langchain.text_splitter import TokenTextSplitter\n",
        "\n",
        "text_splitter = TokenTextSplitter(chunk_size=512, chunk_overlap=24)\n",
        "documents = text_splitter.split_documents(raw_documents[:3])"
      ],
      "metadata": {
        "id": "MeGNCBHgG_uk"
      },
      "execution_count": 10,
      "outputs": []
    },
    {
      "cell_type": "code",
      "source": [
        "from langchain_google_genai import ChatGoogleGenerativeAI, GoogleGenerativeAIEmbeddings\n",
        "\n",
        "llm = ChatGoogleGenerativeAI(\n",
        "    model=\"gemini-2.5-flash\",\n",
        "    temperature=0\n",
        ")"
      ],
      "metadata": {
        "id": "qcLbamhHHIhU"
      },
      "execution_count": 11,
      "outputs": []
    },
    {
      "cell_type": "code",
      "source": [
        "from langchain_experimental.graph_transformers import LLMGraphTransformer\n",
        "\n",
        "llm_transformer = LLMGraphTransformer(llm=llm)"
      ],
      "metadata": {
        "id": "cDkIvIpWHpAY"
      },
      "execution_count": 12,
      "outputs": []
    },
    {
      "cell_type": "code",
      "source": [
        "graph_documents = llm_transformer.convert_to_graph_documents(documents)"
      ],
      "metadata": {
        "id": "13S-qcEJIh6r"
      },
      "execution_count": 13,
      "outputs": []
    },
    {
      "cell_type": "code",
      "source": [
        "graph_documents"
      ],
      "metadata": {
        "colab": {
          "base_uri": "https://localhost:8080/"
        },
        "id": "X6YGfBOTIlh2",
        "outputId": "8c513a91-985f-43a5-aa0f-0a37ef1f192e"
      },
      "execution_count": 14,
      "outputs": [
        {
          "output_type": "execute_result",
          "data": {
            "text/plain": [
              "[GraphDocument(nodes=[Node(id='Elizabeth I', type='Person', properties={}), Node(id='England', type='Country', properties={}), Node(id='Ireland', type='Country', properties={}), Node(id='House Of Tudor', type='Family', properties={}), Node(id='Elizabethan Era', type='Era', properties={}), Node(id='Henry Viii', type='Person', properties={}), Node(id='Anne Boleyn', type='Person', properties={}), Node(id='Edward Vi', type='Person', properties={}), Node(id='Lady Jane Grey', type='Person', properties={}), Node(id='Mary', type='Person', properties={}), Node(id='William Cecil', type='Person', properties={}), Node(id='English Protestant Church', type='Organization', properties={}), Node(id='Elizabethan Religious Settlement', type='Concept', properties={}), Node(id='Church Of England', type='Organization', properties={}), Node(id='James Vi Of Scotland', type='Person', properties={}), Node(id='Pope', type='Person', properties={}), Node(id='Francis Walsingham', type='Person', properties={}), Node(id='France', type='Country', properties={}), Node(id='Spain', type='Country', properties={}), Node(id='Netherlands', type='Country', properties={})], relationships=[Relationship(source=Node(id='Elizabeth I', type='Person', properties={}), target=Node(id='England', type='Country', properties={}), type='QUEEN_OF', properties={}), Relationship(source=Node(id='Elizabeth I', type='Person', properties={}), target=Node(id='Ireland', type='Country', properties={}), type='QUEEN_OF', properties={}), Relationship(source=Node(id='Elizabeth I', type='Person', properties={}), target=Node(id='House Of Tudor', type='Family', properties={}), type='MONARCH_OF', properties={}), Relationship(source=Node(id='Elizabethan Era', type='Era', properties={}), target=Node(id='Elizabeth I', type='Person', properties={}), type='NAMED_AFTER', properties={}), Relationship(source=Node(id='Elizabeth I', type='Person', properties={}), target=Node(id='Henry Viii', type='Person', properties={}), type='CHILD_OF', properties={}), Relationship(source=Node(id='Elizabeth I', type='Person', properties={}), target=Node(id='Anne Boleyn', type='Person', properties={}), type='CHILD_OF', properties={}), Relationship(source=Node(id='Henry Viii', type='Person', properties={}), target=Node(id='Anne Boleyn', type='Person', properties={}), type='SPOUSE_OF', properties={}), Relationship(source=Node(id='Elizabeth I', type='Person', properties={}), target=Node(id='Edward Vi', type='Person', properties={}), type='HALF_SIBLING_OF', properties={}), Relationship(source=Node(id='Elizabeth I', type='Person', properties={}), target=Node(id='Mary', type='Person', properties={}), type='HALF_SIBLING_OF', properties={}), Relationship(source=Node(id='Edward Vi', type='Person', properties={}), target=Node(id='Lady Jane Grey', type='Person', properties={}), type='DESIGNATED_SUCCESSOR', properties={}), Relationship(source=Node(id='Mary', type='Person', properties={}), target=Node(id='Lady Jane Grey', type='Person', properties={}), type='DEPOSED', properties={}), Relationship(source=Node(id='Mary', type='Person', properties={}), target=Node(id='Elizabeth I', type='Person', properties={}), type='IMPRISONED', properties={}), Relationship(source=Node(id='Elizabeth I', type='Person', properties={}), target=Node(id='Mary', type='Person', properties={}), type='SUCCEEDED_TO_THRONE_AFTER', properties={}), Relationship(source=Node(id='Elizabeth I', type='Person', properties={}), target=Node(id='William Cecil', type='Person', properties={}), type='ADVISER', properties={}), Relationship(source=Node(id='Elizabeth I', type='Person', properties={}), target=Node(id='English Protestant Church', type='Organization', properties={}), type='ESTABLISHED', properties={}), Relationship(source=Node(id='Elizabeth I', type='Person', properties={}), target=Node(id='English Protestant Church', type='Organization', properties={}), type='SUPREME_GOVERNOR_OF', properties={}), Relationship(source=Node(id='English Protestant Church', type='Organization', properties={}), target=Node(id='Elizabethan Religious Settlement', type='Concept', properties={}), type='LATER_NAMED', properties={}), Relationship(source=Node(id='Elizabethan Religious Settlement', type='Concept', properties={}), target=Node(id='Church Of England', type='Organization', properties={}), type='EVOLVED_INTO', properties={}), Relationship(source=Node(id='James Vi Of Scotland', type='Person', properties={}), target=Node(id='Elizabeth I', type='Person', properties={}), type='SUCCEEDED', properties={}), Relationship(source=Node(id='Pope', type='Person', properties={}), target=Node(id='Elizabeth I', type='Person', properties={}), type='DECLARED_ILLEGITIMATE', properties={}), Relationship(source=Node(id='Francis Walsingham', type='Person', properties={}), target=Node(id='Elizabeth I', type='Person', properties={}), type='RAN_SECRET_SERVICE_FOR', properties={}), Relationship(source=Node(id='Elizabeth I', type='Person', properties={}), target=Node(id='France', type='Country', properties={}), type='MANOEUVERED_BETWEEN', properties={}), Relationship(source=Node(id='Elizabeth I', type='Person', properties={}), target=Node(id='Spain', type='Country', properties={}), type='MANOEUVERED_BETWEEN', properties={}), Relationship(source=Node(id='Elizabeth I', type='Person', properties={}), target=Node(id='Netherlands', type='Country', properties={}), type='SUPPORTED_CAMPAIGNS_IN', properties={}), Relationship(source=Node(id='Elizabeth I', type='Person', properties={}), target=Node(id='France', type='Country', properties={}), type='SUPPORTED_CAMPAIGNS_IN', properties={}), Relationship(source=Node(id='Elizabeth I', type='Person', properties={}), target=Node(id='Ireland', type='Country', properties={}), type='SUPPORTED_CAMPAIGNS_IN', properties={})], source=Document(metadata={'title': 'Elizabeth I', 'summary': 'Elizabeth I (7 September 1533 – 24 March 1603) was Queen of England and Ireland from 17 November 1558 until her death in 1603. She was the last and longest reigning monarch of the House of Tudor. Her eventful reign, and its effect on history and culture, gave name to the Elizabethan era.\\nElizabeth was the only surviving child of Henry VIII and his second wife, Anne Boleyn. When Elizabeth was two years old, her parents\\' marriage was annulled, her mother was executed, and Elizabeth was declared illegitimate. Henry restored her to the line of succession when she was 10. After Henry\\'s death in 1547, Elizabeth\\'s younger half-brother Edward VI ruled until his own death in 1553, bequeathing the crown to a Protestant cousin, Lady Jane Grey, and ignoring the claims of his two half-sisters, Mary and Elizabeth, despite statutes to the contrary. Edward\\'s will was quickly set aside and the Catholic Mary became queen, deposing Jane. During Mary\\'s reign, Elizabeth was imprisoned for nearly a year on suspicion of supporting Protestant rebels.\\nUpon Mary\\'s 1558 death, Elizabeth succeeded to the throne and set out to rule by good counsel. She depended heavily on a group of trusted advisers led by William Cecil, whom she created Baron Burghley. One of her first actions as queen was the establishment of an English Protestant church, of which she became the supreme governor. This arrangement, later named the Elizabethan Religious Settlement, would evolve into the Church of England. It was expected that Elizabeth would marry and produce an heir; however, despite numerous courtships, she never did. Because of this she is sometimes referred to as the \"Virgin Queen\". She was succeeded by her cousin, James VI of Scotland.\\nIn government, Elizabeth was more moderate than her father and siblings had been. One of her mottoes was video et taceo (\"I see and keep silent\"). In religion, she was relatively tolerant and avoided systematic persecution. After the pope declared her illegitimate in 1570, which in theory released English Catholics from allegiance to her, several conspiracies threatened her life, all of which were defeated with the help of her ministers\\' secret service, run by Francis Walsingham. Elizabeth was cautious in foreign affairs, manoeuvring between the major powers of France and Spain. She half-heartedly supported a number of ineffective, poorly resourced military campaigns in the Netherlands, France, and Ireland. By the mid-1580s, England could no longer avoid war with Spain.\\nAs she grew older, Elizabeth became celebrated for her virginity. A cult of personality grew around her which was celebrated in the portraits, pageants, and literature of the day. The Elizabethan era is famous for the flourishing of English drama, led by playwrights such as William Shakespeare and Christopher Marlowe, the prowess of English maritime adventurers, such as Francis Drake and Walter Raleigh, and for the defeat of the Spanish Armada. Some historians depict Elizabeth as a short-tempered, sometimes indecisive ruler, who enjoyed more than her fair share of luck. Towards the end of her reign, a series of economic and military problems weakened her popularity. Elizabeth is acknowledged as a charismatic performer and a dogged survivor in an era when government was ramshackle and limited, and when monarchs in neighbouring countries faced internal problems and religious civil wars that jeopardised their thrones. After the short, disastrous reigns of her half-siblings, her 44 years on the throne provided welcome stability for the kingdom and helped to forge a sense of national identity.', 'source': 'https://en.wikipedia.org/wiki/Elizabeth_I'}, page_content='Elizabeth I (7 September 1533 – 24 March 1603) was Queen of England and Ireland from 17 November 1558 until her death in 1603. She was the last and longest reigning monarch of the House of Tudor. Her eventful reign, and its effect on history and culture, gave name to the Elizabethan era.\\nElizabeth was the only surviving child of Henry VIII and his second wife, Anne Boleyn. When Elizabeth was two years old, her parents\\' marriage was annulled, her mother was executed, and Elizabeth was declared illegitimate. Henry restored her to the line of succession when she was 10. After Henry\\'s death in 1547, Elizabeth\\'s younger half-brother Edward VI ruled until his own death in 1553, bequeathing the crown to a Protestant cousin, Lady Jane Grey, and ignoring the claims of his two half-sisters, Mary and Elizabeth, despite statutes to the contrary. Edward\\'s will was quickly set aside and the Catholic Mary became queen, deposing Jane. During Mary\\'s reign, Elizabeth was imprisoned for nearly a year on suspicion of supporting Protestant rebels.\\nUpon Mary\\'s 1558 death, Elizabeth succeeded to the throne and set out to rule by good counsel. She depended heavily on a group of trusted advisers led by William Cecil, whom she created Baron Burghley. One of her first actions as queen was the establishment of an English Protestant church, of which she became the supreme governor. This arrangement, later named the Elizabethan Religious Settlement, would evolve into the Church of England. It was expected that Elizabeth would marry and produce an heir; however, despite numerous courtships, she never did. Because of this she is sometimes referred to as the \"Virgin Queen\". She was succeeded by her cousin, James VI of Scotland.\\nIn government, Elizabeth was more moderate than her father and siblings had been. One of her mottoes was video et taceo (\"I see and keep silent\"). In religion, she was relatively tolerant and avoided systematic persecution. After the pope declared her illegitimate in 1570, which in theory released English Catholics from allegiance to her, several conspiracies threatened her life, all of which were defeated with the help of her ministers\\' secret service, run by Francis Walsingham. Elizabeth was cautious in foreign affairs, manoeuvring between the major powers of France and Spain. She half-heartedly supported a number of ineffective, poorly resourced military campaigns in the Netherlands, France, and Ireland. By the mid-1580s, England could no')),\n",
              " GraphDocument(nodes=[Node(id='Elizabeth', type='Person', properties={}), Node(id='Netherlands', type='Location', properties={}), Node(id='France', type='Location', properties={}), Node(id='Ireland', type='Location', properties={}), Node(id='England', type='Country', properties={}), Node(id='Spain', type='Country', properties={}), Node(id='Elizabethan Era', type='Era', properties={}), Node(id='William Shakespeare', type='Person', properties={}), Node(id='Christopher Marlowe', type='Person', properties={}), Node(id='Francis Drake', type='Person', properties={}), Node(id='Walter Raleigh', type='Person', properties={}), Node(id='Spanish Armada', type='Event', properties={}), Node(id='Greenwich Palace', type='Location', properties={}), Node(id='Henry Viii', type='Person', properties={}), Node(id='Anne Boleyn', type='Person', properties={}), Node(id='Elizabeth Of York', type='Person', properties={}), Node(id='Lady Elizabeth Howard', type='Person', properties={}), Node(id='English Throne', type='Concept', properties={}), Node(id='English Drama', type='Concept', properties={}), Node(id='English Maritime Adventurers', type='Concept', properties={}), Node(id='National Identity', type='Concept', properties={}), Node(id='Virginity', type='Concept', properties={}), Node(id='Cult Of Personality', type='Concept', properties={}), Node(id='Stability', type='Concept', properties={})], relationships=[Relationship(source=Node(id='Elizabeth', type='Person', properties={}), target=Node(id='Netherlands', type='Location', properties={}), type='CONDUCTED_MILITARY_CAMPAIGNS_IN', properties={}), Relationship(source=Node(id='Elizabeth', type='Person', properties={}), target=Node(id='France', type='Location', properties={}), type='CONDUCTED_MILITARY_CAMPAIGNS_IN', properties={}), Relationship(source=Node(id='Elizabeth', type='Person', properties={}), target=Node(id='Ireland', type='Location', properties={}), type='CONDUCTED_MILITARY_CAMPAIGNS_IN', properties={}), Relationship(source=Node(id='England', type='Country', properties={}), target=Node(id='Spain', type='Country', properties={}), type='AT_WAR_WITH', properties={}), Relationship(source=Node(id='Elizabeth', type='Person', properties={}), target=Node(id='Virginity', type='Concept', properties={}), type='CELEBRATED_FOR', properties={}), Relationship(source=Node(id='Cult Of Personality', type='Concept', properties={}), target=Node(id='Elizabeth', type='Person', properties={}), type='GREW_AROUND', properties={}), Relationship(source=Node(id='Elizabeth', type='Person', properties={}), target=Node(id='Elizabethan Era', type='Era', properties={}), type='ASSOCIATED_WITH', properties={}), Relationship(source=Node(id='Elizabethan Era', type='Era', properties={}), target=Node(id='English Drama', type='Concept', properties={}), type='KNOWN_FOR', properties={}), Relationship(source=Node(id='English Drama', type='Concept', properties={}), target=Node(id='William Shakespeare', type='Person', properties={}), type='LED_BY', properties={}), Relationship(source=Node(id='English Drama', type='Concept', properties={}), target=Node(id='Christopher Marlowe', type='Person', properties={}), type='LED_BY', properties={}), Relationship(source=Node(id='Elizabethan Era', type='Era', properties={}), target=Node(id='English Maritime Adventurers', type='Concept', properties={}), type='KNOWN_FOR', properties={}), Relationship(source=Node(id='English Maritime Adventurers', type='Concept', properties={}), target=Node(id='Francis Drake', type='Person', properties={}), type='INCLUDES', properties={}), Relationship(source=Node(id='English Maritime Adventurers', type='Concept', properties={}), target=Node(id='Walter Raleigh', type='Person', properties={}), type='INCLUDES', properties={}), Relationship(source=Node(id='Elizabethan Era', type='Era', properties={}), target=Node(id='Spanish Armada', type='Event', properties={}), type='KNOWN_FOR', properties={}), Relationship(source=Node(id='Spanish Armada', type='Event', properties={}), target=Node(id='Elizabethan Era', type='Era', properties={}), type='DEFEATED_DURING', properties={}), Relationship(source=Node(id='Elizabeth', type='Person', properties={}), target=Node(id='Greenwich Palace', type='Location', properties={}), type='BORN_AT', properties={}), Relationship(source=Node(id='Elizabeth', type='Person', properties={}), target=Node(id='Elizabeth Of York', type='Person', properties={}), type='NAMED_AFTER', properties={}), Relationship(source=Node(id='Elizabeth', type='Person', properties={}), target=Node(id='Lady Elizabeth Howard', type='Person', properties={}), type='NAMED_AFTER', properties={}), Relationship(source=Node(id='Elizabeth', type='Person', properties={}), target=Node(id='Henry Viii', type='Person', properties={}), type='CHILD_OF', properties={}), Relationship(source=Node(id='Elizabeth', type='Person', properties={}), target=Node(id='Anne Boleyn', type='Person', properties={}), type='CHILD_OF', properties={}), Relationship(source=Node(id='Henry Viii', type='Person', properties={}), target=Node(id='Elizabeth', type='Person', properties={}), type='PARENT_OF', properties={}), Relationship(source=Node(id='Anne Boleyn', type='Person', properties={}), target=Node(id='Elizabeth', type='Person', properties={}), type='PARENT_OF', properties={}), Relationship(source=Node(id='Elizabeth', type='Person', properties={}), target=Node(id='English Throne', type='Concept', properties={}), type='HEIR_TO', properties={}), Relationship(source=Node(id='Elizabeth', type='Person', properties={}), target=Node(id='Stability', type='Concept', properties={}), type='PROVIDED', properties={}), Relationship(source=Node(id='Stability', type='Concept', properties={}), target=Node(id='England', type='Country', properties={}), type='FOR', properties={}), Relationship(source=Node(id='Elizabeth', type='Person', properties={}), target=Node(id='National Identity', type='Concept', properties={}), type='FORGED', properties={})], source=Document(metadata={'title': 'Elizabeth I', 'summary': 'Elizabeth I (7 September 1533 – 24 March 1603) was Queen of England and Ireland from 17 November 1558 until her death in 1603. She was the last and longest reigning monarch of the House of Tudor. Her eventful reign, and its effect on history and culture, gave name to the Elizabethan era.\\nElizabeth was the only surviving child of Henry VIII and his second wife, Anne Boleyn. When Elizabeth was two years old, her parents\\' marriage was annulled, her mother was executed, and Elizabeth was declared illegitimate. Henry restored her to the line of succession when she was 10. After Henry\\'s death in 1547, Elizabeth\\'s younger half-brother Edward VI ruled until his own death in 1553, bequeathing the crown to a Protestant cousin, Lady Jane Grey, and ignoring the claims of his two half-sisters, Mary and Elizabeth, despite statutes to the contrary. Edward\\'s will was quickly set aside and the Catholic Mary became queen, deposing Jane. During Mary\\'s reign, Elizabeth was imprisoned for nearly a year on suspicion of supporting Protestant rebels.\\nUpon Mary\\'s 1558 death, Elizabeth succeeded to the throne and set out to rule by good counsel. She depended heavily on a group of trusted advisers led by William Cecil, whom she created Baron Burghley. One of her first actions as queen was the establishment of an English Protestant church, of which she became the supreme governor. This arrangement, later named the Elizabethan Religious Settlement, would evolve into the Church of England. It was expected that Elizabeth would marry and produce an heir; however, despite numerous courtships, she never did. Because of this she is sometimes referred to as the \"Virgin Queen\". She was succeeded by her cousin, James VI of Scotland.\\nIn government, Elizabeth was more moderate than her father and siblings had been. One of her mottoes was video et taceo (\"I see and keep silent\"). In religion, she was relatively tolerant and avoided systematic persecution. After the pope declared her illegitimate in 1570, which in theory released English Catholics from allegiance to her, several conspiracies threatened her life, all of which were defeated with the help of her ministers\\' secret service, run by Francis Walsingham. Elizabeth was cautious in foreign affairs, manoeuvring between the major powers of France and Spain. She half-heartedly supported a number of ineffective, poorly resourced military campaigns in the Netherlands, France, and Ireland. By the mid-1580s, England could no longer avoid war with Spain.\\nAs she grew older, Elizabeth became celebrated for her virginity. A cult of personality grew around her which was celebrated in the portraits, pageants, and literature of the day. The Elizabethan era is famous for the flourishing of English drama, led by playwrights such as William Shakespeare and Christopher Marlowe, the prowess of English maritime adventurers, such as Francis Drake and Walter Raleigh, and for the defeat of the Spanish Armada. Some historians depict Elizabeth as a short-tempered, sometimes indecisive ruler, who enjoyed more than her fair share of luck. Towards the end of her reign, a series of economic and military problems weakened her popularity. Elizabeth is acknowledged as a charismatic performer and a dogged survivor in an era when government was ramshackle and limited, and when monarchs in neighbouring countries faced internal problems and religious civil wars that jeopardised their thrones. After the short, disastrous reigns of her half-siblings, her 44 years on the throne provided welcome stability for the kingdom and helped to forge a sense of national identity.', 'source': 'https://en.wikipedia.org/wiki/Elizabeth_I'}, page_content=\" resourced military campaigns in the Netherlands, France, and Ireland. By the mid-1580s, England could no longer avoid war with Spain.\\nAs she grew older, Elizabeth became celebrated for her virginity. A cult of personality grew around her which was celebrated in the portraits, pageants, and literature of the day. The Elizabethan era is famous for the flourishing of English drama, led by playwrights such as William Shakespeare and Christopher Marlowe, the prowess of English maritime adventurers, such as Francis Drake and Walter Raleigh, and for the defeat of the Spanish Armada. Some historians depict Elizabeth as a short-tempered, sometimes indecisive ruler, who enjoyed more than her fair share of luck. Towards the end of her reign, a series of economic and military problems weakened her popularity. Elizabeth is acknowledged as a charismatic performer and a dogged survivor in an era when government was ramshackle and limited, and when monarchs in neighbouring countries faced internal problems and religious civil wars that jeopardised their thrones. After the short, disastrous reigns of her half-siblings, her 44 years on the throne provided welcome stability for the kingdom and helped to forge a sense of national identity.\\n\\n\\n== Early life ==\\n\\nElizabeth was born at Greenwich Palace on 7 September 1533 and was named after her grandmothers, Elizabeth of York and Lady Elizabeth Howard. She was the second child of Henry VIII of England born in wedlock to survive infancy. Her mother was Henry VIII's second wife, Anne Boleyn. At birth, Elizabeth was the heir presumptive to the English throne. Her elder half-sis\")),\n",
              " GraphDocument(nodes=[Node(id='Elizabeth Petrovna', type='Person', properties={}), Node(id='Russia', type='Country', properties={}), Node(id='Peter The Great', type='Person', properties={}), Node(id='Catherine I Of Russia', type='Person', properties={}), Node(id='Peter Ii', type='Person', properties={}), Node(id='Anna', type='Person', properties={}), Node(id='Ivan Vi', type='Person', properties={}), Node(id='Peter Iii', type='Person', properties={}), Node(id='Romanovs', type='Family', properties={}), Node(id='Holstein-Gottorp-Romanov', type='Family', properties={}), Node(id='Mikhail Lomonosov', type='Person', properties={}), Node(id='University Of Moscow', type='Institution', properties={}), Node(id='Ivan Shuvalov', type='Person', properties={}), Node(id='Imperial Academy Of Arts', type='Institution', properties={}), Node(id='Bartolomeo Rastrelli', type='Person', properties={}), Node(id='Peterhof Palace', type='Building', properties={}), Node(id='Winter Palace', type='Building', properties={}), Node(id='Smolny Cathedral', type='Building', properties={}), Node(id='Saint Petersburg', type='City', properties={}), Node(id='War Of Austrian Succession', type='Conflict', properties={}), Node(id=\"Seven Years' War\", type='Conflict', properties={}), Node(id='Aleksey Bestuzhev-Ryumin', type='Person', properties={}), Node(id='Prussia', type='Country', properties={}), Node(id='Age Of Enlightenment', type='Concept', properties={}), Node(id='Alexei', type='Person', properties={})], relationships=[Relationship(source=Node(id='Elizabeth Petrovna', type='Person', properties={}), target=Node(id='Russia', type='Country', properties={}), type='RULES', properties={}), Relationship(source=Node(id='Elizabeth Petrovna', type='Person', properties={}), target=Node(id='Peter The Great', type='Person', properties={}), type='CHILD_OF', properties={}), Relationship(source=Node(id='Elizabeth Petrovna', type='Person', properties={}), target=Node(id='Catherine I Of Russia', type='Person', properties={}), type='CHILD_OF', properties={}), Relationship(source=Node(id='Elizabeth Petrovna', type='Person', properties={}), target=Node(id='Alexei', type='Person', properties={}), type='SIBLING', properties={}), Relationship(source=Node(id='Elizabeth Petrovna', type='Person', properties={}), target=Node(id='Peter Ii', type='Person', properties={}), type='AUNT_OF', properties={}), Relationship(source=Node(id='Elizabeth Petrovna', type='Person', properties={}), target=Node(id='Anna', type='Person', properties={}), type='COUSIN', properties={}), Relationship(source=Node(id='Elizabeth Petrovna', type='Person', properties={}), target=Node(id='Peter Iii', type='Person', properties={}), type='AUNT_OF', properties={}), Relationship(source=Node(id='Elizabeth Petrovna', type='Person', properties={}), target=Node(id='Peter Iii', type='Person', properties={}), type='HAS_HEIR', properties={}), Relationship(source=Node(id='Elizabeth Petrovna', type='Person', properties={}), target=Node(id='Romanovs', type='Family', properties={}), type='BELONGS_TO_LINE', properties={}), Relationship(source=Node(id='Elizabeth Petrovna', type='Person', properties={}), target=Node(id='Prussia', type='Country', properties={}), type='OPPOSES_POLICIES_OF', properties={}), Relationship(source=Node(id='Elizabeth Petrovna', type='Person', properties={}), target=Node(id='Mikhail Lomonosov', type='Person', properties={}), type='ENCOURAGED_FOUNDATION_BY', properties={}), Relationship(source=Node(id='Elizabeth Petrovna', type='Person', properties={}), target=Node(id='Ivan Shuvalov', type='Person', properties={}), type='ENCOURAGED_FOUNDATION_BY', properties={}), Relationship(source=Node(id='Elizabeth Petrovna', type='Person', properties={}), target=Node(id='Bartolomeo Rastrelli', type='Person', properties={}), type='FINANCED_PROJECTS_OF', properties={}), Relationship(source=Node(id='Elizabeth Petrovna', type='Person', properties={}), target=Node(id='War Of Austrian Succession', type='Conflict', properties={}), type='LED_DURING', properties={}), Relationship(source=Node(id='Elizabeth Petrovna', type='Person', properties={}), target=Node(id=\"Seven Years' War\", type='Conflict', properties={}), type='LED_DURING', properties={}), Relationship(source=Node(id='Elizabeth Petrovna', type='Person', properties={}), target=Node(id='Aleksey Bestuzhev-Ryumin', type='Person', properties={}), type='COLLABORATED_WITH', properties={}), Relationship(source=Node(id='Elizabeth Petrovna', type='Person', properties={}), target=Node(id='Age Of Enlightenment', type='Concept', properties={}), type='ASSOCIATED_WITH', properties={}), Relationship(source=Node(id='Elizabeth Petrovna', type='Person', properties={}), target=Node(id='Peterhof Palace', type='Building', properties={}), type='HAS_MONUMENT', properties={}), Relationship(source=Node(id='Elizabeth Petrovna', type='Person', properties={}), target=Node(id='Winter Palace', type='Building', properties={}), type='HAS_MONUMENT', properties={}), Relationship(source=Node(id='Elizabeth Petrovna', type='Person', properties={}), target=Node(id='Smolny Cathedral', type='Building', properties={}), type='HAS_MONUMENT', properties={}), Relationship(source=Node(id='Peter The Great', type='Person', properties={}), target=Node(id='Russia', type='Country', properties={}), type='RULES', properties={}), Relationship(source=Node(id='Peter The Great', type='Person', properties={}), target=Node(id='Elizabeth Petrovna', type='Person', properties={}), type='PARENT_OF', properties={}), Relationship(source=Node(id='Peter The Great', type='Person', properties={}), target=Node(id='Alexei', type='Person', properties={}), type='PARENT_OF', properties={}), Relationship(source=Node(id='Peter The Great', type='Person', properties={}), target=Node(id='Catherine I Of Russia', type='Person', properties={}), type='SPOUSE', properties={}), Relationship(source=Node(id='Catherine I Of Russia', type='Person', properties={}), target=Node(id='Russia', type='Country', properties={}), type='RULES', properties={}), Relationship(source=Node(id='Catherine I Of Russia', type='Person', properties={}), target=Node(id='Elizabeth Petrovna', type='Person', properties={}), type='PARENT_OF', properties={}), Relationship(source=Node(id='Catherine I Of Russia', type='Person', properties={}), target=Node(id='Peter The Great', type='Person', properties={}), type='SPOUSE', properties={}), Relationship(source=Node(id='Peter Ii', type='Person', properties={}), target=Node(id='Russia', type='Country', properties={}), type='RULES', properties={}), Relationship(source=Node(id='Peter Ii', type='Person', properties={}), target=Node(id='Elizabeth Petrovna', type='Person', properties={}), type='NEPHEW_OF', properties={}), Relationship(source=Node(id='Anna', type='Person', properties={}), target=Node(id='Russia', type='Country', properties={}), type='RULES', properties={}), Relationship(source=Node(id='Anna', type='Person', properties={}), target=Node(id='Elizabeth Petrovna', type='Person', properties={}), type='COUSIN_OF', properties={}), Relationship(source=Node(id='Anna', type='Person', properties={}), target=Node(id='Ivan Vi', type='Person', properties={}), type='GREAT_AUNT_OF', properties={}), Relationship(source=Node(id='Ivan Vi', type='Person', properties={}), target=Node(id='Russia', type='Country', properties={}), type='RULES', properties={}), Relationship(source=Node(id='Ivan Vi', type='Person', properties={}), target=Node(id='Anna', type='Person', properties={}), type='GREAT_NEPHEW_OF', properties={}), Relationship(source=Node(id='Peter Iii', type='Person', properties={}), target=Node(id='Elizabeth Petrovna', type='Person', properties={}), type='NEPHEW_OF', properties={}), Relationship(source=Node(id='Peter Iii', type='Person', properties={}), target=Node(id='Holstein-Gottorp-Romanov', type='Family', properties={}), type='CREATED', properties={}), Relationship(source=Node(id='Mikhail Lomonosov', type='Person', properties={}), target=Node(id='University Of Moscow', type='Institution', properties={}), type='FOUNDED', properties={}), Relationship(source=Node(id='University Of Moscow', type='Institution', properties={}), target=Node(id='Russia', type='Country', properties={}), type='LOCATED_IN', properties={}), Relationship(source=Node(id='University Of Moscow', type='Institution', properties={}), target=Node(id='Educational Institution', type='Type', properties={}), type='IS_A', properties={}), Relationship(source=Node(id='Ivan Shuvalov', type='Person', properties={}), target=Node(id='Imperial Academy Of Arts', type='Institution', properties={}), type='FOUNDED', properties={}), Relationship(source=Node(id='Imperial Academy Of Arts', type='Institution', properties={}), target=Node(id='Russia', type='Country', properties={}), type='LOCATED_IN', properties={}), Relationship(source=Node(id='Bartolomeo Rastrelli', type='Person', properties={}), target=Node(id='Architect', type='Occupation', properties={}), type='HAS_OCCUPATION', properties={}), Relationship(source=Node(id='Bartolomeo Rastrelli', type='Person', properties={}), target=Node(id='Elizabeth Petrovna', type='Person', properties={}), type='FAVORITE_ARCHITECT_OF', properties={}), Relationship(source=Node(id='Bartolomeo Rastrelli', type='Person', properties={}), target=Node(id='Peterhof Palace', type='Building', properties={}), type='DESIGNED', properties={}), Relationship(source=Node(id='Bartolomeo Rastrelli', type='Person', properties={}), target=Node(id='Winter Palace', type='Building', properties={}), type='DESIGNED', properties={}), Relationship(source=Node(id='Bartolomeo Rastrelli', type='Person', properties={}), target=Node(id='Smolny Cathedral', type='Building', properties={}), type='DESIGNED', properties={}), Relationship(source=Node(id='Peterhof Palace', type='Building', properties={}), target=Node(id='Baroque', type='Style', properties={}), type='HAS_STYLE', properties={}), Relationship(source=Node(id='Winter Palace', type='Building', properties={}), target=Node(id='Saint Petersburg', type='City', properties={}), type='LOCATED_IN', properties={}), Relationship(source=Node(id='Smolny Cathedral', type='Building', properties={}), target=Node(id='Saint Petersburg', type='City', properties={}), type='LOCATED_IN', properties={}), Relationship(source=Node(id='Aleksey Bestuzhev-Ryumin', type='Person', properties={}), target=Node(id='Diplomat', type='Occupation', properties={}), type='HAS_OCCUPATION', properties={}), Relationship(source=Node(id='War Of Austrian Succession', type='Conflict', properties={}), target=Node(id='Elizabeth Petrovna', type='Person', properties={}), type='SOLVED_BY', properties={}), Relationship(source=Node(id='War Of Austrian Succession', type='Conflict', properties={}), target=Node(id='Aleksey Bestuzhev-Ryumin', type='Person', properties={}), type='SOLVED_BY', properties={}), Relationship(source=Node(id='Russia', type='Country', properties={}), target=Node(id='Age Of Enlightenment', type='Concept', properties={}), type='EXPERIENCED', properties={})], source=Document(metadata={'title': 'Elizabeth of Russia', 'summary': \"Elizabeth or Elizaveta Petrovna (Russian: Елизаве́та Петро́вна; 29 December [O.S. 18 December] 1709 – 5 January [O.S. 25 December] 1762) was Empress of Russia from 1741 until her death in 1762. She remains one of the most popular Russian monarchs because of her decision not to execute a single person during her reign, her numerous construction projects, and her strong opposition to Prussian policies. She was the last person on the agnatic line of the Romanovs as her nephew ascended, thus creating the house of Holstein-Gottorp-Romanov.\\nThe second-eldest daughter of Tsar Peter the Great (r.\\u20091682–1725), Elizabeth lived through the confused successions of her father's descendants following her half-brother Alexei's death in 1718. The throne first passed to her mother Catherine I of Russia (r.\\u20091725–1727), then to her nephew Peter II, who died in 1730 and was succeeded by Elizabeth's first cousin Anna (r.\\u20091730–1740). After the brief rule of Anna's infant great-nephew, Ivan VI, Elizabeth seized the throne with the military's support and declared her own nephew, the future Peter III, her heir.\\nDuring her reign Elizabeth continued the policies of her father and brought about a remarkable Age of Enlightenment in Russia. Her domestic policies allowed the nobles to gain dominance in local government while shortening their terms of service to the state. She encouraged Mikhail Lomonosov's foundation of the University of Moscow, the highest-ranking Russian educational institution. Her court became one of the most splendid in all Europe, especially regarding architecture: she modernised Russia's roads, encouraged Ivan Shuvalov's foundation of the Imperial Academy of Arts, and financed grandiose Baroque projects of her favourite architect, Bartolomeo Rastrelli, particularly in Peterhof Palace. The Winter Palace and the Smolny Cathedral in Saint Petersburg are among the chief monuments of her reign.\\nElizabeth led the Russian Empire during the two major European conflicts of her time: the War of Austrian Succession (1740–1748) and the Seven Years' War (1756–1763). She and diplomat Aleksey Bestuzhev-Ryumin solved the first event by forming an alliance with Austria and France, but indirectly caused the second. Russian troops enjoyed several victories against Prussia and briefly occupied Berlin, but when Frederick the Great was finally considering surrender in January 1762, the Russian Empress died. She was the last agnatic member of the House of Romanov to reign over the Russian Empire.\", 'source': 'https://en.wikipedia.org/wiki/Elizabeth_of_Russia'}, page_content=\"Elizabeth or Elizaveta Petrovna (Russian: Елизаве́та Петро́вна; 29 December [O.S. 18 December] 1709 – 5 January [O.S. 25 December] 1762) was Empress of Russia from 1741 until her death in 1762. She remains one of the most popular Russian monarchs because of her decision not to execute a single person during her reign, her numerous construction projects, and her strong opposition to Prussian policies. She was the last person on the agnatic line of the Romanovs as her nephew ascended, thus creating the house of Holstein-Gottorp-Romanov.\\nThe second-eldest daughter of Tsar Peter the Great (r.\\u20091682–1725), Elizabeth lived through the confused successions of her father's descendants following her half-brother Alexei's death in 1718. The throne first passed to her mother Catherine I of Russia (r.\\u20091725–1727), then to her nephew Peter II, who died in 1730 and was succeeded by Elizabeth's first cousin Anna (r.\\u20091730–1740). After the brief rule of Anna's infant great-nephew, Ivan VI, Elizabeth seized the throne with the military's support and declared her own nephew, the future Peter III, her heir.\\nDuring her reign Elizabeth continued the policies of her father and brought about a remarkable Age of Enlightenment in Russia. Her domestic policies allowed the nobles to gain dominance in local government while shortening their terms of service to the state. She encouraged Mikhail Lomonosov's foundation of the University of Moscow, the highest-ranking Russian educational institution. Her court became one of the most splendid in all Europe, especially regarding architecture: she modernised Russia's roads, encouraged Ivan Shuvalov's foundation of the Imperial Academy of Arts, and financed grandiose Baroque projects of her favourite architect, Bartolomeo Rastrelli, particularly in Peterhof Palace. The Winter Palace and the Smolny Cathedral in Saint Petersburg are among the chief monuments of her reign.\\nElizabeth led the Russian Empire during the two major European conflicts of her time: the War of Austrian Succession (1740–1748) and the Seven Years' War (1756–1763). She and diplomat Aleksey Bestuzhev-Ryumin solved the first event by forming an\")),\n",
              " GraphDocument(nodes=[Node(id='Elizabeth', type='Person', properties={}), Node(id='Aleksey Bestuzhev-Ryumin', type='Person', properties={}), Node(id='Austria', type='Country', properties={}), Node(id='France', type='Country', properties={}), Node(id='Prussia', type='Country', properties={}), Node(id='Berlin', type='City', properties={}), Node(id='Frederick The Great', type='Person', properties={}), Node(id='House Of Romanov', type='Family', properties={}), Node(id='Russia', type='Country', properties={}), Node(id='Kolomenskoye', type='Location', properties={}), Node(id='Moscow', type='City', properties={}), Node(id='Peter The Great', type='Person', properties={}), Node(id='Catherine', type='Person', properties={}), Node(id='Samuel Skowroński', type='Person', properties={}), Node(id='Grand Duchy Of Lithuania', type='Country', properties={}), Node(id='Cathedral Of The Holy Trinity', type='Building', properties={}), Node(id='Saint Petersburg', type='City', properties={}), Node(id=\"Saint Isaac'S Cathedral\", type='Building', properties={}), Node(id='Anna', type='Person', properties={}), Node(id='Alexei Petrovich', type='Person', properties={}), Node(id='Eudoxia Lopukhina', type='Person', properties={}), Node(id='Tsarevna', type='Title', properties={}), Node(id='Tsar', type='Title', properties={})], relationships=[Relationship(source=Node(id='Elizabeth', type='Person', properties={}), target=Node(id='Austria', type='Country', properties={}), type='ALLIED_WITH', properties={}), Relationship(source=Node(id='Elizabeth', type='Person', properties={}), target=Node(id='France', type='Country', properties={}), type='ALLIED_WITH', properties={}), Relationship(source=Node(id='Aleksey Bestuzhev-Ryumin', type='Person', properties={}), target=Node(id='Austria', type='Country', properties={}), type='ALLIED_WITH', properties={}), Relationship(source=Node(id='Aleksey Bestuzhev-Ryumin', type='Person', properties={}), target=Node(id='France', type='Country', properties={}), type='ALLIED_WITH', properties={}), Relationship(source=Node(id='Elizabeth', type='Person', properties={}), target=Node(id='Prussia', type='Country', properties={}), type='FOUGHT_AGAINST', properties={}), Relationship(source=Node(id='Elizabeth', type='Person', properties={}), target=Node(id='Berlin', type='City', properties={}), type='OCCUPIED', properties={}), Relationship(source=Node(id='Frederick The Great', type='Person', properties={}), target=Node(id='Elizabeth', type='Person', properties={}), type='CONSIDERED_SURRENDER_TO', properties={}), Relationship(source=Node(id='Elizabeth', type='Person', properties={}), target=Node(id='House Of Romanov', type='Family', properties={}), type='MEMBER_OF', properties={}), Relationship(source=Node(id='Elizabeth', type='Person', properties={}), target=Node(id='Russia', type='Country', properties={}), type='REIGNED_OVER', properties={}), Relationship(source=Node(id='Elizabeth', type='Person', properties={}), target=Node(id='Kolomenskoye', type='Location', properties={}), type='BORN_IN', properties={}), Relationship(source=Node(id='Kolomenskoye', type='Location', properties={}), target=Node(id='Moscow', type='City', properties={}), type='LOCATED_IN', properties={}), Relationship(source=Node(id='Moscow', type='City', properties={}), target=Node(id='Russia', type='Country', properties={}), type='LOCATED_IN', properties={}), Relationship(source=Node(id='Elizabeth', type='Person', properties={}), target=Node(id='Peter The Great', type='Person', properties={}), type='PARENT', properties={}), Relationship(source=Node(id='Elizabeth', type='Person', properties={}), target=Node(id='Catherine', type='Person', properties={}), type='PARENT', properties={}), Relationship(source=Node(id='Peter The Great', type='Person', properties={}), target=Node(id='Tsar', type='Title', properties={}), type='HAS_TITLE', properties={}), Relationship(source=Node(id='Peter The Great', type='Person', properties={}), target=Node(id='Russia', type='Country', properties={}), type='ASSOCIATED_WITH', properties={}), Relationship(source=Node(id='Catherine', type='Person', properties={}), target=Node(id='Samuel Skowroński', type='Person', properties={}), type='PARENT', properties={}), Relationship(source=Node(id='Samuel Skowroński', type='Person', properties={}), target=Node(id='Grand Duchy Of Lithuania', type='Country', properties={}), type='SUBJECT_OF', properties={}), Relationship(source=Node(id='Peter The Great', type='Person', properties={}), target=Node(id='Catherine', type='Person', properties={}), type='MARRIED', properties={}), Relationship(source=Node(id='Cathedral Of The Holy Trinity', type='Building', properties={}), target=Node(id='Saint Petersburg', type='City', properties={}), type='LOCATED_IN', properties={}), Relationship(source=Node(id=\"Saint Isaac'S Cathedral\", type='Building', properties={}), target=Node(id='Saint Petersburg', type='City', properties={}), type='LOCATED_IN', properties={}), Relationship(source=Node(id='Anna', type='Person', properties={}), target=Node(id='Peter The Great', type='Person', properties={}), type='PARENT', properties={}), Relationship(source=Node(id='Anna', type='Person', properties={}), target=Node(id='Catherine', type='Person', properties={}), type='PARENT', properties={}), Relationship(source=Node(id='Anna', type='Person', properties={}), target=Node(id='Tsarevna', type='Title', properties={}), type='HAS_TITLE', properties={}), Relationship(source=Node(id='Elizabeth', type='Person', properties={}), target=Node(id='Tsarevna', type='Title', properties={}), type='HAS_TITLE', properties={}), Relationship(source=Node(id='Alexei Petrovich', type='Person', properties={}), target=Node(id='Peter The Great', type='Person', properties={}), type='PARENT', properties={}), Relationship(source=Node(id='Alexei Petrovich', type='Person', properties={}), target=Node(id='Eudoxia Lopukhina', type='Person', properties={}), type='PARENT', properties={}), Relationship(source=Node(id='Eudoxia Lopukhina', type='Person', properties={}), target=Node(id='Peter The Great', type='Person', properties={}), type='SPOUSE', properties={}), Relationship(source=Node(id='Elizabeth', type='Person', properties={}), target=Node(id='Peter The Great', type='Person', properties={}), type='FAVORITE_OF', properties={}), Relationship(source=Node(id='Elizabeth', type='Person', properties={}), target=Node(id='Peter The Great', type='Person', properties={}), type='RESEMBLED', properties={})], source=Document(metadata={'title': 'Elizabeth of Russia', 'summary': \"Elizabeth or Elizaveta Petrovna (Russian: Елизаве́та Петро́вна; 29 December [O.S. 18 December] 1709 – 5 January [O.S. 25 December] 1762) was Empress of Russia from 1741 until her death in 1762. She remains one of the most popular Russian monarchs because of her decision not to execute a single person during her reign, her numerous construction projects, and her strong opposition to Prussian policies. She was the last person on the agnatic line of the Romanovs as her nephew ascended, thus creating the house of Holstein-Gottorp-Romanov.\\nThe second-eldest daughter of Tsar Peter the Great (r.\\u20091682–1725), Elizabeth lived through the confused successions of her father's descendants following her half-brother Alexei's death in 1718. The throne first passed to her mother Catherine I of Russia (r.\\u20091725–1727), then to her nephew Peter II, who died in 1730 and was succeeded by Elizabeth's first cousin Anna (r.\\u20091730–1740). After the brief rule of Anna's infant great-nephew, Ivan VI, Elizabeth seized the throne with the military's support and declared her own nephew, the future Peter III, her heir.\\nDuring her reign Elizabeth continued the policies of her father and brought about a remarkable Age of Enlightenment in Russia. Her domestic policies allowed the nobles to gain dominance in local government while shortening their terms of service to the state. She encouraged Mikhail Lomonosov's foundation of the University of Moscow, the highest-ranking Russian educational institution. Her court became one of the most splendid in all Europe, especially regarding architecture: she modernised Russia's roads, encouraged Ivan Shuvalov's foundation of the Imperial Academy of Arts, and financed grandiose Baroque projects of her favourite architect, Bartolomeo Rastrelli, particularly in Peterhof Palace. The Winter Palace and the Smolny Cathedral in Saint Petersburg are among the chief monuments of her reign.\\nElizabeth led the Russian Empire during the two major European conflicts of her time: the War of Austrian Succession (1740–1748) and the Seven Years' War (1756–1763). She and diplomat Aleksey Bestuzhev-Ryumin solved the first event by forming an alliance with Austria and France, but indirectly caused the second. Russian troops enjoyed several victories against Prussia and briefly occupied Berlin, but when Frederick the Great was finally considering surrender in January 1762, the Russian Empress died. She was the last agnatic member of the House of Romanov to reign over the Russian Empire.\", 'source': 'https://en.wikipedia.org/wiki/Elizabeth_of_Russia'}, page_content='–1763). She and diplomat Aleksey Bestuzhev-Ryumin solved the first event by forming an alliance with Austria and France, but indirectly caused the second. Russian troops enjoyed several victories against Prussia and briefly occupied Berlin, but when Frederick the Great was finally considering surrender in January 1762, the Russian Empress died. She was the last agnatic member of the House of Romanov to reign over the Russian Empire.\\n\\n\\n== Early life ==\\n\\n\\n=== Childhood and teenage years ===\\n\\nElizabeth was born at Kolomenskoye, near Moscow, Russia, on 18 December 1709 (O.S.). Her parents were Peter the Great, Tsar of Russia and Catherine. Catherine was the daughter of Samuel Skowroński, a subject of Grand Duchy of Lithuania. Although no documentary record exists, her parents were said to have married secretly at the Cathedral of the Holy Trinity in Saint Petersburg at some point between 23 October and 1 December 1707. Their official marriage was at Saint Isaac\\'s Cathedral in Saint Petersburg on 9 February 1712. On this day, the two children previously born to the couple (Anna and Elizabeth) were legitimised by their father and given the title of Tsarevna (\"princess\") on 6 March 1711. Of the twelve children born to Peter and Catherine (five sons and seven daughters), only the sisters survived to adulthood. They had one older surviving sibling, crown prince Alexei Petrovich, who was Peter\\'s son by his first wife, noblewoman Eudoxia Lopukhina.\\n\\nAs a child, Elizabeth was the favourite of her father, whom she resembled both physically and temperamentally. Even though he adored his daughter, Peter did not devote time or attention to her education; having both a son and grandson from his first marriage to a noblewoman, he did not anticipate that a daughter born to his former maid might one day inherit the Russian throne, which had until that point never been occupied by a woman; as such, it was left to ')),\n",
              " GraphDocument(nodes=[Node(id='Elizabeth I', type='Person', properties={}), Node(id='England', type='Location', properties={}), Node(id='James Vi Of Scotland', type='Person', properties={}), Node(id='Scotland', type='Location', properties={}), Node(id='Union Of The Crowns', type='Event', properties={}), Node(id='Norfolk Conspiracy', type='Event', properties={}), Node(id='Patrick Collinson', type='Person', properties={}), Node(id='Elizabethan Exclusion Crisis', type='Event', properties={}), Node(id='Secret Correspondence', type='Document', properties={}), Node(id='Valentine Thomas Affair', type='Event', properties={}), Node(id='Pope', type='Person', properties={}), Node(id='English Constitutional Law', type='Concept', properties={}), Node(id='Henry Viii', type='Person', properties={}), Node(id='Edward Vi', type='Person', properties={}), Node(id='Mary I', type='Person', properties={}), Node(id='Jane Grey', type='Person', properties={}), Node(id='Katherine Grey', type='Person', properties={}), Node(id='Mary Grey', type='Person', properties={}), Node(id='Margaret Clifford', type='Person', properties={}), Node(id='Edward Iii', type='Person', properties={}), Node(id='De Natis Ultra Mare', type='Document', properties={}), Node(id='Anglo-Spanish War', type='Conflict', properties={}), Node(id='Henry Vii', type='Person', properties={}), Node(id='Margaret Tudor', type='Person', properties={}), Node(id='Mary Tudor', type='Person', properties={}), Node(id='Margaret Douglas', type='Person', properties={}), Node(id='Succession', type='Concept', properties={}), Node(id='Female Leadership', type='Concept', properties={}), Node(id='Tudor Dynastic Issues', type='Concept', properties={}), Node(id='Catholic Women', type='Group', properties={}), Node(id='Presbyterian Strongholds', type='Group', properties={})], relationships=[Relationship(source=Node(id='Elizabeth I', type='Person', properties={}), target=Node(id='England', type='Location', properties={}), type='QUEEN_OF', properties={}), Relationship(source=Node(id='James Vi Of Scotland', type='Person', properties={}), target=Node(id='Elizabeth I', type='Person', properties={}), type='SUCCEEDED', properties={}), Relationship(source=Node(id='James Vi Of Scotland', type='Person', properties={}), target=Node(id='Scotland', type='Location', properties={}), type='FROM', properties={}), Relationship(source=Node(id='Union Of The Crowns', type='Event', properties={}), target=Node(id='James Vi Of Scotland', type='Person', properties={}), type='INVOLVES', properties={}), Relationship(source=Node(id='Union Of The Crowns', type='Event', properties={}), target=Node(id='England', type='Location', properties={}), type='INVOLVES', properties={}), Relationship(source=Node(id='Union Of The Crowns', type='Event', properties={}), target=Node(id='Scotland', type='Location', properties={}), type='INVOLVES', properties={}), Relationship(source=Node(id='Norfolk Conspiracy', type='Event', properties={}), target=Node(id='Succession', type='Concept', properties={}), type='RELATED_TO', properties={}), Relationship(source=Node(id='Elizabethan Exclusion Crisis', type='Event', properties={}), target=Node(id='Patrick Collinson', type='Person', properties={}), type='NAMED_BY', properties={}), Relationship(source=Node(id='Elizabethan Exclusion Crisis', type='Event', properties={}), target=Node(id='Succession', type='Concept', properties={}), type='RELATED_TO', properties={}), Relationship(source=Node(id='Secret Correspondence', type='Document', properties={}), target=Node(id='Succession', type='Concept', properties={}), type='RELATED_TO', properties={}), Relationship(source=Node(id='Valentine Thomas Affair', type='Event', properties={}), target=Node(id='Succession', type='Concept', properties={}), type='RELATED_TO', properties={}), Relationship(source=Node(id='England', type='Location', properties={}), target=Node(id='Scotland', type='Location', properties={}), type='FORMED_RELATIONSHIP_WITH', properties={}), Relationship(source=Node(id='Catholic Women', type='Group', properties={}), target=Node(id='Female Leadership', type='Concept', properties={}), type='RESISTANT_TO', properties={}), Relationship(source=Node(id='Presbyterian Strongholds', type='Group', properties={}), target=Node(id='Female Leadership', type='Concept', properties={}), type='RESISTANT_TO', properties={}), Relationship(source=Node(id='Catholic Women', type='Group', properties={}), target=Node(id='Pope', type='Person', properties={}), type='SUBMISSIVE_TO', properties={}), Relationship(source=Node(id='Catholic Women', type='Group', properties={}), target=Node(id='English Constitutional Law', type='Concept', properties={}), type='NOT_SUBMISSIVE_TO', properties={}), Relationship(source=Node(id='Henry Viii', type='Person', properties={}), target=Node(id='Elizabeth I', type='Person', properties={}), type='FATHER_OF', properties={}), Relationship(source=Node(id='Henry Viii', type='Person', properties={}), target=Node(id='Edward Vi', type='Person', properties={}), type='NAMED_IN_WILL', properties={}), Relationship(source=Node(id='Henry Viii', type='Person', properties={}), target=Node(id='Mary I', type='Person', properties={}), type='NAMED_IN_WILL', properties={}), Relationship(source=Node(id='Henry Viii', type='Person', properties={}), target=Node(id='Elizabeth I', type='Person', properties={}), type='NAMED_IN_WILL', properties={}), Relationship(source=Node(id='Henry Viii', type='Person', properties={}), target=Node(id='Jane Grey', type='Person', properties={}), type='NAMED_IN_WILL', properties={}), Relationship(source=Node(id='Henry Viii', type='Person', properties={}), target=Node(id='Katherine Grey', type='Person', properties={}), type='NAMED_IN_WILL', properties={}), Relationship(source=Node(id='Henry Viii', type='Person', properties={}), target=Node(id='Mary Grey', type='Person', properties={}), type='NAMED_IN_WILL', properties={}), Relationship(source=Node(id='Henry Viii', type='Person', properties={}), target=Node(id='Margaret Clifford', type='Person', properties={}), type='NAMED_IN_WILL', properties={}), Relationship(source=Node(id='Elizabeth I', type='Person', properties={}), target=Node(id='Edward Vi', type='Person', properties={}), type='OUTLIVED', properties={}), Relationship(source=Node(id='Elizabeth I', type='Person', properties={}), target=Node(id='Mary I', type='Person', properties={}), type='OUTLIVED', properties={}), Relationship(source=Node(id='Elizabeth I', type='Person', properties={}), target=Node(id='Jane Grey', type='Person', properties={}), type='OUTLIVED', properties={}), Relationship(source=Node(id='Elizabeth I', type='Person', properties={}), target=Node(id='Katherine Grey', type='Person', properties={}), type='OUTLIVED', properties={}), Relationship(source=Node(id='Elizabeth I', type='Person', properties={}), target=Node(id='Mary Grey', type='Person', properties={}), type='OUTLIVED', properties={}), Relationship(source=Node(id='Elizabeth I', type='Person', properties={}), target=Node(id='Margaret Clifford', type='Person', properties={}), type='OUTLIVED', properties={}), Relationship(source=Node(id='De Natis Ultra Mare', type='Document', properties={}), target=Node(id='Succession', type='Concept', properties={}), type='PERTAINS_TO', properties={}), Relationship(source=Node(id='Henry Viii', type='Person', properties={}), target=Node(id='Succession', type='Concept', properties={}), type='WILL_PERTAINS_TO', properties={}), Relationship(source=Node(id='Anglo-Spanish War', type='Conflict', properties={}), target=Node(id='Elizabeth I', type='Person', properties={}), type='OCCURRED_DURING_REIGN_OF', properties={}), Relationship(source=Node(id='Margaret Tudor', type='Person', properties={}), target=Node(id='Henry Vii', type='Person', properties={}), type='DAUGHTER_OF', properties={}), Relationship(source=Node(id='Mary Tudor', type='Person', properties={}), target=Node(id='Henry Vii', type='Person', properties={}), type='DAUGHTER_OF', properties={}), Relationship(source=Node(id='Margaret Tudor', type='Person', properties={}), target=Node(id='Succession', type='Concept', properties={}), type='RELATED_TO', properties={}), Relationship(source=Node(id='Mary Tudor', type='Person', properties={}), target=Node(id='Succession', type='Concept', properties={}), type='RELATED_TO', properties={}), Relationship(source=Node(id='Mary I', type='Person', properties={}), target=Node(id='Margaret Douglas', type='Person', properties={}), type='PREFERRED_SUCCESSOR', properties={}), Relationship(source=Node(id='Margaret Douglas', type='Person', properties={}), target=Node(id='Mary I', type='Person', properties={}), type='COUSIN_OF', properties={}), Relationship(source=Node(id='Margaret Douglas', type='Person', properties={}), target=Node(id='Margaret Tudor', type='Person', properties={}), type='DAUGHTER_OF', properties={}), Relationship(source=Node(id='Margaret Douglas', type='Person', properties={}), target=Node(id='Succession', type='Concept', properties={}), type='FIGURE_IN', properties={}), Relationship(source=Node(id='Elizabeth I', type='Person', properties={}), target=Node(id='Tudor Dynastic Issues', type='Concept', properties={}), type='DID_NOT_CLARIFY', properties={})], source=Document(metadata={'title': 'Succession to Elizabeth I', 'summary': 'The succession to the childless queen of England Elizabeth I was an open question from her accession in 1558 to her death in 1603, when the crown passed to James VI of Scotland, an event known as the Union of the Crowns. While the accession of James went smoothly, the succession had been the subject of much debate for decades. In some scholarly views, it was a major political factor of the entire reign, even if not so voiced. Separate aspects have acquired their own nomenclature: the \"Norfolk conspiracy\", Patrick Collinson\\'s \"Elizabethan exclusion crisis\", the \"Secret Correspondence\", and the \"Valentine Thomas affair\".\\nThe topics of debate remained obscured by uncertainty.\\nElizabeth I avoided establishing the order of succession in any form, presumably because she feared for her own life once a successor was named.  She was also concerned with England forming a productive relationship with Scotland, whose Catholic and Presbyterian strongholds were resistant to female leadership. Catholic women who would be submissive to the Pope and not to English constitutional law were rejected.\\nThe will of Elizabeth\\'s father, Henry VIII, had named one male and seven females living at his death in 1547 as the line of succession: (1) his son Edward VI, (2) Mary I, (3) Elizabeth I, (4) Jane Grey, (5) Katherine Grey, (6) Mary Grey, and (7) Margaret Clifford. By 1596, Elizabeth had outlived all others.\\nA number of authorities considered that the legal position hinged on documents such as the statute De natis ultra mare of Edward III, and the will of Henry VIII. There were different opinions about the application of these documents. Political, religious and military matters came to predominate later in Elizabeth\\'s reign, in the context of the Anglo-Spanish War.', 'source': 'https://en.wikipedia.org/wiki/Succession_to_Elizabeth_I'}, page_content='The succession to the childless queen of England Elizabeth I was an open question from her accession in 1558 to her death in 1603, when the crown passed to James VI of Scotland, an event known as the Union of the Crowns. While the accession of James went smoothly, the succession had been the subject of much debate for decades. In some scholarly views, it was a major political factor of the entire reign, even if not so voiced. Separate aspects have acquired their own nomenclature: the \"Norfolk conspiracy\", Patrick Collinson\\'s \"Elizabethan exclusion crisis\", the \"Secret Correspondence\", and the \"Valentine Thomas affair\".\\nThe topics of debate remained obscured by uncertainty.\\nElizabeth I avoided establishing the order of succession in any form, presumably because she feared for her own life once a successor was named.  She was also concerned with England forming a productive relationship with Scotland, whose Catholic and Presbyterian strongholds were resistant to female leadership. Catholic women who would be submissive to the Pope and not to English constitutional law were rejected.\\nThe will of Elizabeth\\'s father, Henry VIII, had named one male and seven females living at his death in 1547 as the line of succession: (1) his son Edward VI, (2) Mary I, (3) Elizabeth I, (4) Jane Grey, (5) Katherine Grey, (6) Mary Grey, and (7) Margaret Clifford. By 1596, Elizabeth had outlived all others.\\nA number of authorities considered that the legal position hinged on documents such as the statute De natis ultra mare of Edward III, and the will of Henry VIII. There were different opinions about the application of these documents. Political, religious and military matters came to predominate later in Elizabeth\\'s reign, in the context of the Anglo-Spanish War.\\n\\n\\n== Table ==\\n\\n\\n== Cognatic descent from Henry VII ==\\nDescent from the two daughters of Henry VII who reached adulthood, Margaret and Mary, was the first and main issue in the succession. \\n\\n\\n=== Lennox claim ===\\nMary I of England had died without managing to have her preferred successor and first cousin, Margaret Douglas, Countess of Lennox, nominated by parliament. Margaret Douglas was a daughter of Margaret Tudor, and lived to 1578, but became a marginal figure in discussions of the succession to Elizabeth I, who at no point clarified the dynastic issues of the Tudor line. When in 1565 Margaret Douglas\\'s')),\n",
              " GraphDocument(nodes=[Node(id='Margaret Douglas', type='Person', properties={}), Node(id='Henry Stuart, Lord Darnley', type='Person', properties={}), Node(id='Mary, Queen Of Scots', type='Person', properties={}), Node(id='Lennox Claim', type='Claim', properties={}), Node(id='Stuart Claim', type='Claim', properties={}), Node(id='James Vi', type='Person', properties={}), Node(id='Margaret Tudor', type='Person', properties={}), Node(id='Arbella Stuart', type='Person', properties={}), Node(id='Charles Stuart, 1St Earl Of Lennox', type='Person', properties={}), Node(id='English Throne', type='Throne', properties={}), Node(id='Elizabeth', type='Person', properties={}), Node(id='England', type='Location', properties={}), Node(id='Parliament', type='Organization', properties={}), Node(id='Roman Catholic', type='Religion', properties={}), Node(id='Throckmorton Plot', type='Plot', properties={}), Node(id='Babington Plot', type='Plot', properties={}), Node(id='English Government', type='Government', properties={}), Node(id='Mary Tudor', type='Person', properties={}), Node(id='Frances Grey, Duchess Of Suffolk', type='Person', properties={}), Node(id='Eleanor Clifford, Countess Of Cumberland', type='Person', properties={}), Node(id='Charles Brandon, 1St Duke Of Suffolk', type='Person', properties={}), Node(id='Henry Grey', type='Person', properties={}), Node(id='Tudor Line', type='Lineage', properties={}), Node(id='Line Of Succession', type='Concept', properties={}), Node(id='Stuart Line', type='Lineage', properties={})], relationships=[Relationship(source=Node(id='Henry Stuart, Lord Darnley', type='Person', properties={}), target=Node(id='Margaret Douglas', type='Person', properties={}), type='SON_OF', properties={}), Relationship(source=Node(id='Henry Stuart, Lord Darnley', type='Person', properties={}), target=Node(id='Mary, Queen Of Scots', type='Person', properties={}), type='MARRIED', properties={}), Relationship(source=Node(id='Lennox Claim', type='Claim', properties={}), target=Node(id='Stuart Claim', type='Claim', properties={}), type='CONSOLIDATED_INTO', properties={}), Relationship(source=Node(id='James Vi', type='Person', properties={}), target=Node(id='Margaret Tudor', type='Person', properties={}), type='DESCENDANT_OF', properties={}), Relationship(source=Node(id='Arbella Stuart', type='Person', properties={}), target=Node(id='Charles Stuart, 1St Earl Of Lennox', type='Person', properties={}), type='DAUGHTER_OF', properties={}), Relationship(source=Node(id='Charles Stuart, 1St Earl Of Lennox', type='Person', properties={}), target=Node(id='Margaret Douglas', type='Person', properties={}), type='SON_OF', properties={}), Relationship(source=Node(id='Mary, Queen Of Scots', type='Person', properties={}), target=Node(id='James Vi', type='Person', properties={}), type='MOTHER_OF', properties={}), Relationship(source=Node(id='Mary, Queen Of Scots', type='Person', properties={}), target=Node(id='English Throne', type='Throne', properties={}), type='SUCCESSOR_TO', properties={}), Relationship(source=Node(id='Mary, Queen Of Scots', type='Person', properties={}), target=Node(id='England', type='Location', properties={}), type='SENT_AMBASSADORS_TO', properties={}), Relationship(source=Node(id='Parliament', type='Organization', properties={}), target=Node(id='England', type='Location', properties={}), type='SUMMONED_IN', properties={}), Relationship(source=Node(id='Mary, Queen Of Scots', type='Person', properties={}), target=Node(id='Roman Catholic', type='Religion', properties={}), type='ADHERES_TO', properties={}), Relationship(source=Node(id='Mary, Queen Of Scots', type='Person', properties={}), target=Node(id='Throckmorton Plot', type='Plot', properties={}), type='INVOLVED_IN', properties={}), Relationship(source=Node(id='Mary, Queen Of Scots', type='Person', properties={}), target=Node(id='Babington Plot', type='Plot', properties={}), type='INVOLVED_IN', properties={}), Relationship(source=Node(id='Mary, Queen Of Scots', type='Person', properties={}), target=Node(id='English Government', type='Government', properties={}), type='POLITICAL_PROBLEM_FOR', properties={}), Relationship(source=Node(id='Mary, Queen Of Scots', type='Person', properties={}), target=Node(id='Elizabeth', type='Person', properties={}), type='PLOTTED_ASSASSINATION_OF', properties={}), Relationship(source=Node(id='Frances Grey, Duchess Of Suffolk', type='Person', properties={}), target=Node(id='Line Of Succession', type='Concept', properties={}), type='HAS_CHILDREN_IN', properties={}), Relationship(source=Node(id='Eleanor Clifford, Countess Of Cumberland', type='Person', properties={}), target=Node(id='Line Of Succession', type='Concept', properties={}), type='HAS_CHILDREN_IN', properties={}), Relationship(source=Node(id='Frances Grey, Duchess Of Suffolk', type='Person', properties={}), target=Node(id='Mary Tudor', type='Person', properties={}), type='DAUGHTER_OF', properties={}), Relationship(source=Node(id='Frances Grey, Duchess Of Suffolk', type='Person', properties={}), target=Node(id='Charles Brandon, 1St Duke Of Suffolk', type='Person', properties={}), type='DAUGHTER_OF', properties={}), Relationship(source=Node(id='Eleanor Clifford, Countess Of Cumberland', type='Person', properties={}), target=Node(id='Mary Tudor', type='Person', properties={}), type='DAUGHTER_OF', properties={}), Relationship(source=Node(id='Eleanor Clifford, Countess Of Cumberland', type='Person', properties={}), target=Node(id='Charles Brandon, 1St Duke Of Suffolk', type='Person', properties={}), type='DAUGHTER_OF', properties={}), Relationship(source=Node(id='Mary Tudor', type='Person', properties={}), target=Node(id='Charles Brandon, 1St Duke Of Suffolk', type='Person', properties={}), type='MARRIED', properties={}), Relationship(source=Node(id='Frances Grey, Duchess Of Suffolk', type='Person', properties={}), target=Node(id='Henry Grey', type='Person', properties={}), type='MARRIED', properties={}), Relationship(source=Node(id='James Vi', type='Person', properties={}), target=Node(id='Stuart Line', type='Lineage', properties={}), type='MEMBER_OF', properties={}), Relationship(source=Node(id='Arbella Stuart', type='Person', properties={}), target=Node(id='Stuart Line', type='Lineage', properties={}), type='MEMBER_OF', properties={})], source=Document(metadata={'title': 'Succession to Elizabeth I', 'summary': 'The succession to the childless queen of England Elizabeth I was an open question from her accession in 1558 to her death in 1603, when the crown passed to James VI of Scotland, an event known as the Union of the Crowns. While the accession of James went smoothly, the succession had been the subject of much debate for decades. In some scholarly views, it was a major political factor of the entire reign, even if not so voiced. Separate aspects have acquired their own nomenclature: the \"Norfolk conspiracy\", Patrick Collinson\\'s \"Elizabethan exclusion crisis\", the \"Secret Correspondence\", and the \"Valentine Thomas affair\".\\nThe topics of debate remained obscured by uncertainty.\\nElizabeth I avoided establishing the order of succession in any form, presumably because she feared for her own life once a successor was named.  She was also concerned with England forming a productive relationship with Scotland, whose Catholic and Presbyterian strongholds were resistant to female leadership. Catholic women who would be submissive to the Pope and not to English constitutional law were rejected.\\nThe will of Elizabeth\\'s father, Henry VIII, had named one male and seven females living at his death in 1547 as the line of succession: (1) his son Edward VI, (2) Mary I, (3) Elizabeth I, (4) Jane Grey, (5) Katherine Grey, (6) Mary Grey, and (7) Margaret Clifford. By 1596, Elizabeth had outlived all others.\\nA number of authorities considered that the legal position hinged on documents such as the statute De natis ultra mare of Edward III, and the will of Henry VIII. There were different opinions about the application of these documents. Political, religious and military matters came to predominate later in Elizabeth\\'s reign, in the context of the Anglo-Spanish War.', 'source': 'https://en.wikipedia.org/wiki/Succession_to_Elizabeth_I'}, page_content=' I, who at no point clarified the dynastic issues of the Tudor line. When in 1565 Margaret Douglas\\'s elder son Henry Stuart, Lord Darnley, married Mary, Queen of Scots, the \"Lennox claim\" was generally regarded as consolidated into the \"Stuart claim\".\\n\\n\\n=== Stuart claimants ===\\nJames VI was the son of two grandchildren of Margaret Tudor. Arbella Stuart, the most serious other contender by the late 16th century, was the daughter of Margaret Douglas, Countess of Lennox\\'s younger son Charles Stuart, 1st Earl of Lennox.\\nJames VI\\'s mother, Mary, Queen of Scots, was considered a plausible successor to the English throne. At the beginning of Elizabeth\\'s reign she sent ambassadors to England when a parliament was summoned, anticipating a role for parliament in settling the succession in her favour. Mary was a Roman Catholic, and her proximity to the succession was a factor in plotting, including the Throckmorton plot and the Babington plot, making her position a political problem for the English government, eventually resolved by judicial means. She was convicted of plotting to assassinate Elizabeth and was executed in 1587. In that year, Mary\\'s son James reached the age of twenty-one, while Arbella was only twelve.\\n\\n\\n=== Suffolk claimants ===\\nWhile the Stuart line of James and Arbella would have had political support, by 1600 the descendants of Mary Tudor were theoretically relevant, and on legal grounds could not be discounted. Frances Grey, Duchess of Suffolk, and Eleanor Clifford, Countess of Cumberland, both had children who were in the line of succession. Frances and Eleanor were Mary Tudor\\'s daughters by her second husband, Charles Brandon, 1st Duke of Suffolk. Frances married Henry Grey'))]"
            ]
          },
          "metadata": {},
          "execution_count": 14
        }
      ]
    },
    {
      "cell_type": "code",
      "source": [
        "graph.add_graph_documents(\n",
        "    graph_documents,\n",
        "    baseEntityLabel=True,\n",
        "    include_source=True\n",
        ")"
      ],
      "metadata": {
        "id": "CPdcZOkWIp-V"
      },
      "execution_count": 15,
      "outputs": []
    },
    {
      "cell_type": "markdown",
      "source": [
        "## Graph Visualization"
      ],
      "metadata": {
        "id": "yBSewhMjJcHu"
      }
    },
    {
      "cell_type": "code",
      "source": [
        "# directly show the graph resulting from the given Cypher query\n",
        "default_cypher = \"MATCH (s)-[r:!MENTIONS]->(t) RETURN s,r,t LIMIT 50\""
      ],
      "metadata": {
        "id": "bUewyzdRJCLE"
      },
      "execution_count": 16,
      "outputs": []
    },
    {
      "cell_type": "code",
      "source": [
        "def showGraph(cypher: str = default_cypher):\n",
        "    # create a neo4j session to run queries\n",
        "    driver = GraphDatabase.driver(\n",
        "        uri = os.environ[\"NEO4J_URI\"],\n",
        "        auth = (os.environ[\"NEO4J_USERNAME\"],\n",
        "                os.environ[\"NEO4J_PASSWORD\"]))\n",
        "    session = driver.session()\n",
        "    widget = GraphWidget(graph = session.run(cypher).graph())\n",
        "    widget.node_label_mapping = 'id'\n",
        "    display(widget)\n",
        "    return widget"
      ],
      "metadata": {
        "id": "CYyxauMnLHD2"
      },
      "execution_count": 17,
      "outputs": []
    },
    {
      "cell_type": "code",
      "source": [
        "showGraph()"
      ],
      "metadata": {
        "colab": {
          "base_uri": "https://localhost:8080/",
          "height": 1000,
          "referenced_widgets": [
            "fa2f4434de6e46fda33d1a6cc0d5507d",
            "9f2b3260fa00481f9de3a3230441b3dc"
          ]
        },
        "id": "_S3MZrpeLKgP",
        "outputId": "616ef26a-9795-4915-e5d2-36f227bd0e90"
      },
      "execution_count": 18,
      "outputs": [
        {
          "output_type": "display_data",
          "data": {
            "text/plain": [
              "GraphWidget(layout=Layout(height='800px', width='100%'))"
            ],
            "application/vnd.jupyter.widget-view+json": {
              "version_major": 2,
              "version_minor": 0,
              "model_id": "fa2f4434de6e46fda33d1a6cc0d5507d"
            }
          },
          "metadata": {
            "application/vnd.jupyter.widget-view+json": {
              "colab": {
                "custom_widget_manager": {
                  "url": "https://ssl.gstatic.com/colaboratory-static/widgets/colab-cdn-widget-manager/2b70e893a8ba7c0f/manager.min.js"
                }
              }
            }
          }
        },
        {
          "output_type": "display_data",
          "data": {
            "text/plain": [
              "GraphWidget(layout=Layout(height='800px', width='100%'))"
            ],
            "application/vnd.jupyter.widget-view+json": {
              "version_major": 2,
              "version_minor": 0,
              "model_id": "fa2f4434de6e46fda33d1a6cc0d5507d"
            }
          },
          "metadata": {
            "application/vnd.jupyter.widget-view+json": {
              "colab": {
                "custom_widget_manager": {
                  "url": "https://ssl.gstatic.com/colaboratory-static/widgets/colab-cdn-widget-manager/2b70e893a8ba7c0f/manager.min.js"
                }
              }
            }
          }
        }
      ]
    },
    {
      "cell_type": "markdown",
      "source": [
        "## VectorIndex Store Creation"
      ],
      "metadata": {
        "id": "GZITPYb2Jzz-"
      }
    },
    {
      "cell_type": "code",
      "source": [
        "from langchain_community.vectorstores import Neo4jVector\n",
        "\n",
        "embeddings = GoogleGenerativeAIEmbeddings(model=\"models/embedding-001\")\n",
        "\n",
        "vector_index = Neo4jVector.from_existing_graph(\n",
        "    embeddings,\n",
        "    search_type=\"hybrid\",\n",
        "    node_label=\"Document\",\n",
        "    text_node_properties=[\"text\"],\n",
        "    embedding_node_property=\"embedding\"\n",
        ")"
      ],
      "metadata": {
        "id": "ekezXm_OLMHh"
      },
      "execution_count": 19,
      "outputs": []
    },
    {
      "cell_type": "code",
      "source": [
        "graph.query(\"CREATE FULLTEXT INDEX entity IF NOT EXISTS FOR (e:__Entity__) ON EACH [e.id]\")"
      ],
      "metadata": {
        "colab": {
          "base_uri": "https://localhost:8080/"
        },
        "id": "9nk4moUPKN_C",
        "outputId": "8baf9882-0d5c-43bb-c04c-9fd046fc4f08"
      },
      "execution_count": 20,
      "outputs": [
        {
          "output_type": "execute_result",
          "data": {
            "text/plain": [
              "[]"
            ]
          },
          "metadata": {},
          "execution_count": 20
        }
      ]
    },
    {
      "cell_type": "markdown",
      "source": [
        "## Entity Extraction Chain(only ran on query)"
      ],
      "metadata": {
        "id": "qUohmVSTKgP7"
      }
    },
    {
      "cell_type": "code",
      "source": [
        "from langchain_core.pydantic_v1 import BaseModel, Field\n",
        "# Extract entities from text\n",
        "class Entities(BaseModel):\n",
        "    \"\"\"Identifying information about entities.\"\"\"\n",
        "\n",
        "    names: List[str] = Field(\n",
        "        ...,\n",
        "        description=\"All the person, organization, or business entities that appear in the text\",\n",
        "    )"
      ],
      "metadata": {
        "colab": {
          "base_uri": "https://localhost:8080/"
        },
        "id": "bPCUTo7mTEjz",
        "outputId": "64168cf0-7790-4612-c25b-9ee09c3b47a5"
      },
      "execution_count": 21,
      "outputs": [
        {
          "output_type": "stream",
          "name": "stderr",
          "text": [
            "/usr/local/lib/python3.12/dist-packages/IPython/core/interactiveshell.py:3553: LangChainDeprecationWarning: As of langchain-core 0.3.0, LangChain uses pydantic v2 internally. The langchain_core.pydantic_v1 module was a compatibility shim for pydantic v1, and should no longer be used. Please update the code to import from Pydantic directly.\n",
            "\n",
            "For example, replace imports like: `from langchain_core.pydantic_v1 import BaseModel`\n",
            "with: `from pydantic import BaseModel`\n",
            "or the v1 compatibility namespace if you are working in a code base that has not been fully upgraded to pydantic 2 yet. \tfrom pydantic.v1 import BaseModel\n",
            "\n",
            "  exec(code_obj, self.user_global_ns, self.user_ns)\n"
          ]
        }
      ]
    },
    {
      "cell_type": "code",
      "source": [
        "from langchain_core.prompts import ChatPromptTemplate\n",
        "from langchain_core.prompts.prompt import PromptTemplate\n",
        "\n",
        "prompt = ChatPromptTemplate.from_messages(\n",
        "    [\n",
        "        (\n",
        "            \"system\",\n",
        "            \"You are extracting organization and person entities from the text.\",\n",
        "        ),\n",
        "        (\n",
        "            \"human\",\n",
        "            \"Use the given format to extract information from the following \"\n",
        "            \"input: {question}\",\n",
        "        ),\n",
        "    ]\n",
        ")"
      ],
      "metadata": {
        "id": "_mMLNFDnTPyk"
      },
      "execution_count": 22,
      "outputs": []
    },
    {
      "cell_type": "code",
      "source": [
        "entity_chain = prompt | llm.with_structured_output(Entities)"
      ],
      "metadata": {
        "id": "x8JltaAKTSfF"
      },
      "execution_count": 23,
      "outputs": []
    },
    {
      "cell_type": "code",
      "source": [
        "entity_chain.invoke({\"question\": \"Where was Amelia Earhart born?\"}).names"
      ],
      "metadata": {
        "colab": {
          "base_uri": "https://localhost:8080/"
        },
        "id": "DQJ4hWdUTeix",
        "outputId": "64cdd923-87c0-4d44-9dfb-c3b66ecf6fa2"
      },
      "execution_count": 24,
      "outputs": [
        {
          "output_type": "execute_result",
          "data": {
            "text/plain": [
              "['Amelia Earhart']"
            ]
          },
          "metadata": {},
          "execution_count": 24
        }
      ]
    },
    {
      "cell_type": "markdown",
      "source": [
        "## Structured Retriver(using entity chain)"
      ],
      "metadata": {
        "id": "u0Axm43yKzTO"
      }
    },
    {
      "cell_type": "code",
      "source": [
        "from langchain_community.vectorstores.neo4j_vector import remove_lucene_chars\n",
        "\n",
        "def generate_full_text_query(input: str) -> str:\n",
        "    full_text_query = \"\"\n",
        "    words = [el for el in remove_lucene_chars(input).split() if el]\n",
        "    for word in words[:-1]:\n",
        "        full_text_query += f\" {word}~2 AND\"\n",
        "    full_text_query += f\" {words[-1]}~2\"\n",
        "    return full_text_query.strip()"
      ],
      "metadata": {
        "id": "71ZPK7NFTiHx"
      },
      "execution_count": 25,
      "outputs": []
    },
    {
      "cell_type": "code",
      "source": [
        "# Fulltext index query\n",
        "def structured_retriever(question: str) -> str:\n",
        "    result = \"\"\n",
        "    entities = entity_chain.invoke({\"question\": question})\n",
        "    for entity in entities.names:\n",
        "        response = graph.query(\n",
        "            \"\"\"CALL db.index.fulltext.queryNodes('entity', $query, {limit:2})\n",
        "            YIELD node,score\n",
        "            CALL {\n",
        "              WITH node\n",
        "              MATCH (node)-[r:!MENTIONS]->(neighbor)\n",
        "              RETURN node.id + ' - ' + type(r) + ' -> ' + neighbor.id AS output\n",
        "              UNION ALL\n",
        "              WITH node\n",
        "              MATCH (node)<-[r:!MENTIONS]-(neighbor)\n",
        "              RETURN neighbor.id + ' - ' + type(r) + ' -> ' +  node.id AS output\n",
        "            }\n",
        "            RETURN output LIMIT 50\n",
        "            \"\"\",\n",
        "            {\"query\": generate_full_text_query(entity)},\n",
        "        )\n",
        "        result += \"\\n\".join([el['output'] for el in response])\n",
        "    return result"
      ],
      "metadata": {
        "id": "DOhC0Or3TkTL"
      },
      "execution_count": 26,
      "outputs": []
    },
    {
      "cell_type": "code",
      "source": [
        "print(structured_retriever(\"Who is Elizabeth I?\"))"
      ],
      "metadata": {
        "colab": {
          "base_uri": "https://localhost:8080/"
        },
        "id": "aKWTut2nTs2j",
        "outputId": "f9959afa-3204-41a0-894f-cac145082316"
      },
      "execution_count": 27,
      "outputs": [
        {
          "output_type": "stream",
          "name": "stderr",
          "text": [
            "/tmp/ipython-input-1769461356.py:5: LangChainDeprecationWarning: The function `remove_lucene_chars` was deprecated in LangChain 0.3.8 and will be removed in 1.0. An updated version of the function exists in the :meth:`~langchain-neo4j package and should be used instead. To use it run `pip install -U :meth:`~langchain-neo4j` and import as `from :meth:`~langchain_neo4j.vectorstores.neo4j_vector import remove_lucene_chars``.\n",
            "  words = [el for el in remove_lucene_chars(input).split() if el]\n",
            "WARNING:neo4j.notifications:Received notification from DBMS server: {severity: WARNING} {code: Neo.ClientNotification.Statement.FeatureDeprecationWarning} {category: DEPRECATION} {title: This feature is deprecated and will be removed in future versions.} {description: CALL subquery without a variable scope clause is now deprecated. Use CALL (node, node) { ... }} {position: line: 3, column: 13, offset: 104} for query: \"CALL db.index.fulltext.queryNodes('entity', $query, {limit:2})\\n            YIELD node,score\\n            CALL {\\n              WITH node\\n              MATCH (node)-[r:!MENTIONS]->(neighbor)\\n              RETURN node.id + ' - ' + type(r) + ' -> ' + neighbor.id AS output\\n              UNION ALL\\n              WITH node\\n              MATCH (node)<-[r:!MENTIONS]-(neighbor)\\n              RETURN neighbor.id + ' - ' + type(r) + ' -> ' +  node.id AS output\\n            }\\n            RETURN output LIMIT 50\\n            \"\n"
          ]
        },
        {
          "output_type": "stream",
          "name": "stdout",
          "text": [
            "Elizabeth I - QUEEN_OF -> England\n",
            "Elizabeth I - QUEEN_OF -> Ireland\n",
            "Elizabeth I - MONARCH_OF -> House Of Tudor\n",
            "Elizabeth I - CHILD_OF -> Henry Viii\n",
            "Elizabeth I - CHILD_OF -> Anne Boleyn\n",
            "Elizabeth I - HALF_SIBLING_OF -> Edward Vi\n",
            "Elizabeth I - HALF_SIBLING_OF -> Mary\n",
            "Elizabeth I - SUCCEEDED_TO_THRONE_AFTER -> Mary\n",
            "Elizabeth I - ADVISER -> William Cecil\n",
            "Elizabeth I - ESTABLISHED -> English Protestant Church\n",
            "Elizabeth I - SUPREME_GOVERNOR_OF -> English Protestant Church\n",
            "Elizabeth I - MANOEUVERED_BETWEEN -> France\n",
            "Elizabeth I - MANOEUVERED_BETWEEN -> Spain\n",
            "Elizabeth I - SUPPORTED_CAMPAIGNS_IN -> Ireland\n",
            "Elizabeth I - SUPPORTED_CAMPAIGNS_IN -> France\n",
            "Elizabeth I - SUPPORTED_CAMPAIGNS_IN -> Netherlands\n",
            "Elizabeth I - OUTLIVED -> Edward Vi\n",
            "Elizabeth I - OUTLIVED -> Mary I\n",
            "Elizabeth I - OUTLIVED -> Jane Grey\n",
            "Elizabeth I - OUTLIVED -> Katherine Grey\n",
            "Elizabeth I - OUTLIVED -> Mary Grey\n",
            "Elizabeth I - OUTLIVED -> Margaret Clifford\n",
            "Elizabeth I - DID_NOT_CLARIFY -> Tudor Dynastic Issues\n",
            "Elizabethan Era - NAMED_AFTER -> Elizabeth I\n",
            "Mary - IMPRISONED -> Elizabeth I\n",
            "James Vi Of Scotland - SUCCEEDED -> Elizabeth I\n",
            "Pope - DECLARED_ILLEGITIMATE -> Elizabeth I\n",
            "Francis Walsingham - RAN_SECRET_SERVICE_FOR -> Elizabeth I\n",
            "Henry Viii - FATHER_OF -> Elizabeth I\n",
            "Henry Viii - NAMED_IN_WILL -> Elizabeth I\n",
            "Anglo-Spanish War - OCCURRED_DURING_REIGN_OF -> Elizabeth I\n",
            "Elizabeth - NAMED_AFTER -> Elizabeth Of York\n"
          ]
        }
      ]
    },
    {
      "cell_type": "code",
      "source": [
        "def retriever(question: str):\n",
        "    print(f\"Search query: {question}\")\n",
        "    structured_data = structured_retriever(question)\n",
        "    unstructured_data = [el.page_content for el in vector_index.similarity_search(question)]\n",
        "    final_data = f\"\"\"Structured data:\n",
        "{structured_data}\n",
        "Unstructured data:\n",
        "{\"#Document \". join(unstructured_data)}\n",
        "    \"\"\"\n",
        "    return final_data"
      ],
      "metadata": {
        "id": "sr-ntLCTTvLR"
      },
      "execution_count": 28,
      "outputs": []
    },
    {
      "cell_type": "markdown",
      "source": [
        "## Question condensation or standalone question generation"
      ],
      "metadata": {
        "id": "xAkoE8otLYvo"
      }
    },
    {
      "cell_type": "code",
      "source": [
        "_template = \"\"\"Given the following conversation and a follow up question, rephrase the follow up question to be a standalone question,\n",
        "in its original language.\n",
        "Chat History:\n",
        "{chat_history}\n",
        "Follow Up Input: {question}\n",
        "Standalone question:\"\"\""
      ],
      "metadata": {
        "id": "bIsn9BHZT5bV"
      },
      "execution_count": 29,
      "outputs": []
    },
    {
      "cell_type": "code",
      "source": [
        "CONDENSE_QUESTION_PROMPT = PromptTemplate.from_template(_template)"
      ],
      "metadata": {
        "id": "NOwcwHeNT6bo"
      },
      "execution_count": 30,
      "outputs": []
    },
    {
      "cell_type": "code",
      "source": [
        "def _format_chat_history(chat_history: List[Tuple[str, str]]) -> List:\n",
        "    buffer = []\n",
        "    for human, ai in chat_history:\n",
        "        buffer.append(HumanMessage(content=human))\n",
        "        buffer.append(AIMessage(content=ai))\n",
        "    return buffer"
      ],
      "metadata": {
        "id": "VCPk3iJOT8YG"
      },
      "execution_count": 31,
      "outputs": []
    },
    {
      "cell_type": "code",
      "source": [
        "_search_query = RunnableBranch(\n",
        "    # If input includes chat_history, we condense it with the follow-up question\n",
        "    (\n",
        "        RunnableLambda(lambda x: bool(x.get(\"chat_history\"))).with_config(\n",
        "            run_name=\"HasChatHistoryCheck\"\n",
        "        ),  # Condense follow-up question and chat into a standalone_question\n",
        "        RunnablePassthrough.assign(\n",
        "            chat_history=lambda x: _format_chat_history(x[\"chat_history\"])\n",
        "        )\n",
        "        | CONDENSE_QUESTION_PROMPT\n",
        "        | llm\n",
        "        | StrOutputParser(),\n",
        "    ),\n",
        "    # Else, we have no chat history, so just pass through the question\n",
        "    RunnableLambda(lambda x : x[\"question\"]),\n",
        ")"
      ],
      "metadata": {
        "id": "2WpjipuAT-3t"
      },
      "execution_count": 32,
      "outputs": []
    },
    {
      "cell_type": "markdown",
      "source": [
        "## Final chain(Abstract)"
      ],
      "metadata": {
        "id": "IL3BaawlMhXR"
      }
    },
    {
      "cell_type": "code",
      "source": [
        "template = \"\"\"Answer the question based only on the following context:\n",
        "{context}\n",
        "\n",
        "Question: {question}\n",
        "Use natural language and be concise.\n",
        "Answer:\"\"\""
      ],
      "metadata": {
        "id": "FxghIFPnUBvY"
      },
      "execution_count": 33,
      "outputs": []
    },
    {
      "cell_type": "code",
      "source": [
        "prompt = ChatPromptTemplate.from_template(template)"
      ],
      "metadata": {
        "id": "aJgnAOcuUDzW"
      },
      "execution_count": 34,
      "outputs": []
    },
    {
      "cell_type": "code",
      "source": [
        "chain = (\n",
        "    RunnableParallel(\n",
        "        {\n",
        "            \"context\": _search_query | retriever,\n",
        "            \"question\": RunnablePassthrough(),\n",
        "        }\n",
        "    )\n",
        "    | prompt\n",
        "    | llm\n",
        "    | StrOutputParser()\n",
        ")"
      ],
      "metadata": {
        "id": "L9aMe0WkUF1H"
      },
      "execution_count": 35,
      "outputs": []
    },
    {
      "cell_type": "code",
      "source": [
        "chain.invoke({\"question\": \"Which house did Elizabeth I belong to?\"})"
      ],
      "metadata": {
        "colab": {
          "base_uri": "https://localhost:8080/",
          "height": 108
        },
        "id": "sgt4pZO1UbC_",
        "outputId": "791965dc-b2f2-4a11-8d71-1fb42ed85e9a"
      },
      "execution_count": 36,
      "outputs": [
        {
          "output_type": "stream",
          "name": "stdout",
          "text": [
            "Search query: Which house did Elizabeth I belong to?\n"
          ]
        },
        {
          "output_type": "stream",
          "name": "stderr",
          "text": [
            "WARNING:neo4j.notifications:Received notification from DBMS server: {severity: WARNING} {code: Neo.ClientNotification.Statement.FeatureDeprecationWarning} {category: DEPRECATION} {title: This feature is deprecated and will be removed in future versions.} {description: CALL subquery without a variable scope clause is now deprecated. Use CALL (node, node) { ... }} {position: line: 3, column: 13, offset: 104} for query: \"CALL db.index.fulltext.queryNodes('entity', $query, {limit:2})\\n            YIELD node,score\\n            CALL {\\n              WITH node\\n              MATCH (node)-[r:!MENTIONS]->(neighbor)\\n              RETURN node.id + ' - ' + type(r) + ' -> ' + neighbor.id AS output\\n              UNION ALL\\n              WITH node\\n              MATCH (node)<-[r:!MENTIONS]-(neighbor)\\n              RETURN neighbor.id + ' - ' + type(r) + ' -> ' +  node.id AS output\\n            }\\n            RETURN output LIMIT 50\\n            \"\n",
            "WARNING:neo4j.notifications:Received notification from DBMS server: {severity: WARNING} {code: Neo.ClientNotification.Statement.FeatureDeprecationWarning} {category: DEPRECATION} {title: This feature is deprecated and will be removed in future versions.} {description: CALL subquery without a variable scope clause is now deprecated. Use CALL () { ... }} {position: line: 1, column: 1, offset: 0} for query: \"CALL { CALL db.index.vector.queryNodes($index, $k, $embedding) YIELD node, score WITH collect({node:node, score:score}) AS nodes, max(score) AS max UNWIND nodes AS n RETURN n.node AS node, (n.score / max) AS score UNION CALL db.index.fulltext.queryNodes($keyword_index, $query, {limit: $k}) YIELD node, score WITH collect({node:node, score:score}) AS nodes, max(score) AS max UNWIND nodes AS n RETURN n.node AS node, (n.score / max) AS score } WITH node, max(score) AS score ORDER BY score DESC LIMIT $k RETURN reduce(str='', k IN ['text'] | str + '\\\\n' + k + ': ' + coalesce(node[k], '')) AS text, node {.*, `embedding`: Null, id: Null, `text`: Null} AS metadata, score\"\n"
          ]
        },
        {
          "output_type": "execute_result",
          "data": {
            "text/plain": [
              "'Elizabeth I belonged to the House of Tudor.'"
            ],
            "application/vnd.google.colaboratory.intrinsic+json": {
              "type": "string"
            }
          },
          "metadata": {},
          "execution_count": 36
        }
      ]
    },
    {
      "cell_type": "code",
      "source": [
        "chain.invoke(\n",
        "    {\n",
        "        \"question\": \"When was she born?\",\n",
        "        \"chat_history\": [(\"Which house did Elizabeth I belong to?\", \"House Of Tudor\")],\n",
        "    }\n",
        ")"
      ],
      "metadata": {
        "colab": {
          "base_uri": "https://localhost:8080/",
          "height": 108
        },
        "id": "YOnWnWZmUdMb",
        "outputId": "d72c84c0-420c-4ee3-cd4b-579824176f58"
      },
      "execution_count": 37,
      "outputs": [
        {
          "output_type": "stream",
          "name": "stdout",
          "text": [
            "Search query: When was Elizabeth I born?\n"
          ]
        },
        {
          "output_type": "stream",
          "name": "stderr",
          "text": [
            "WARNING:neo4j.notifications:Received notification from DBMS server: {severity: WARNING} {code: Neo.ClientNotification.Statement.FeatureDeprecationWarning} {category: DEPRECATION} {title: This feature is deprecated and will be removed in future versions.} {description: CALL subquery without a variable scope clause is now deprecated. Use CALL (node, node) { ... }} {position: line: 3, column: 13, offset: 104} for query: \"CALL db.index.fulltext.queryNodes('entity', $query, {limit:2})\\n            YIELD node,score\\n            CALL {\\n              WITH node\\n              MATCH (node)-[r:!MENTIONS]->(neighbor)\\n              RETURN node.id + ' - ' + type(r) + ' -> ' + neighbor.id AS output\\n              UNION ALL\\n              WITH node\\n              MATCH (node)<-[r:!MENTIONS]-(neighbor)\\n              RETURN neighbor.id + ' - ' + type(r) + ' -> ' +  node.id AS output\\n            }\\n            RETURN output LIMIT 50\\n            \"\n",
            "WARNING:neo4j.notifications:Received notification from DBMS server: {severity: WARNING} {code: Neo.ClientNotification.Statement.FeatureDeprecationWarning} {category: DEPRECATION} {title: This feature is deprecated and will be removed in future versions.} {description: CALL subquery without a variable scope clause is now deprecated. Use CALL () { ... }} {position: line: 1, column: 1, offset: 0} for query: \"CALL { CALL db.index.vector.queryNodes($index, $k, $embedding) YIELD node, score WITH collect({node:node, score:score}) AS nodes, max(score) AS max UNWIND nodes AS n RETURN n.node AS node, (n.score / max) AS score UNION CALL db.index.fulltext.queryNodes($keyword_index, $query, {limit: $k}) YIELD node, score WITH collect({node:node, score:score}) AS nodes, max(score) AS max UNWIND nodes AS n RETURN n.node AS node, (n.score / max) AS score } WITH node, max(score) AS score ORDER BY score DESC LIMIT $k RETURN reduce(str='', k IN ['text'] | str + '\\\\n' + k + ': ' + coalesce(node[k], '')) AS text, node {.*, `embedding`: Null, id: Null, `text`: Null} AS metadata, score\"\n"
          ]
        },
        {
          "output_type": "execute_result",
          "data": {
            "text/plain": [
              "'She was born on 7 September 1533.'"
            ],
            "application/vnd.google.colaboratory.intrinsic+json": {
              "type": "string"
            }
          },
          "metadata": {},
          "execution_count": 37
        }
      ]
    }
  ]
}