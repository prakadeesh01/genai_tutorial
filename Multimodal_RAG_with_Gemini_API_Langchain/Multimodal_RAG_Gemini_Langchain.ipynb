{
  "nbformat": 4,
  "nbformat_minor": 0,
  "metadata": {
    "colab": {
      "provenance": []
    },
    "kernelspec": {
      "name": "python3",
      "display_name": "Python 3"
    },
    "language_info": {
      "name": "python"
    }
  },
  "cells": [
    {
      "cell_type": "code",
      "source": [
        "# !pip install langchain_google_genai\n",
        "# !pip install -U langchain-community\n",
        "# !pip install faiss-cpu"
      ],
      "metadata": {
        "collapsed": true,
        "id": "bE0IWaAeqDd7"
      },
      "execution_count": 1,
      "outputs": []
    },
    {
      "cell_type": "code",
      "source": [
        "import os\n",
        "from IPython.display import display, Markdown\n",
        "from langchain_google_genai import ChatGoogleGenerativeAI\n",
        "from langchain_core.messages import HumanMessage\n",
        "from langchain_google_genai import GoogleGenerativeAIEmbeddings\n",
        "from langchain_core.output_parsers import StrOutputParser\n",
        "from langchain_core.prompts import ChatPromptTemplate\n",
        "from langchain_core.documents import Document\n",
        "from langchain_community.document_loaders import TextLoader\n",
        "from langchain_text_splitters import CharacterTextSplitter\n",
        "from langchain_community.vectorstores import FAISS\n",
        "from langchain.schema.runnable import RunnablePassthrough, RunnableMap"
      ],
      "metadata": {
        "id": "gX1qxpjkprZ4"
      },
      "execution_count": 2,
      "outputs": []
    },
    {
      "cell_type": "code",
      "source": [
        "from google.colab import userdata\n",
        "GOOGLE_API_KEY=userdata.get('GOOGLE_API_KEY')\n",
        "os.environ[\"GOOGLE_API_KEY\"] = GOOGLE_API_KEY"
      ],
      "metadata": {
        "id": "rI4rRNMOqAER"
      },
      "execution_count": 3,
      "outputs": []
    },
    {
      "cell_type": "code",
      "source": [
        "def load_model(model_name=\"gemini-2.5-flash-lite\"):\n",
        "  llm = ChatGoogleGenerativeAI(model=model_name)\n",
        "  return llm"
      ],
      "metadata": {
        "id": "ksWPdpqhqqAN"
      },
      "execution_count": 4,
      "outputs": []
    },
    {
      "cell_type": "code",
      "source": [
        "model = load_model()"
      ],
      "metadata": {
        "id": "uwdQyzlPrJZm"
      },
      "execution_count": 5,
      "outputs": []
    },
    {
      "cell_type": "code",
      "source": [
        "# import requests\n",
        "# def get_image(url,filename,extension):\n",
        "#   content = requests.get(url).content\n",
        "#   with open(f'/content/{filename}.{extension}', 'wb') as f:\n",
        "#     f.write(content)\n",
        "#   image = Image.open(f\"/content/{filename}.{extension}\")\n",
        "#   plt.imshow(image)\n",
        "#   return image"
      ],
      "metadata": {
        "id": "CAH211pbrPuw"
      },
      "execution_count": 6,
      "outputs": []
    },
    {
      "cell_type": "code",
      "source": [
        "# image = get_image(\"https://static.nike.com/a/images/t_PDP_1728_v1/f_auto,q_auto:eco/1705ca64-fbc8-4b79-a451-4ab77760c219/dunk-low-older-shoes-C7T1cx.png\",\n",
        "#                   \"nike-shoes\",\n",
        "#                   \"png\")"
      ],
      "metadata": {
        "id": "uDrs-xONzKLK"
      },
      "execution_count": 7,
      "outputs": []
    },
    {
      "cell_type": "code",
      "source": [
        "prompt=\"give me summary of this image in 5 words\""
      ],
      "metadata": {
        "id": "Y7lN6VHVzdJU"
      },
      "execution_count": 8,
      "outputs": []
    },
    {
      "cell_type": "code",
      "source": [
        "message= HumanMessage(\n",
        "    content=[\n",
        "         {\n",
        "            \"type\": \"text\",\n",
        "            \"text\": prompt,\n",
        "        },\n",
        "        {\n",
        "\n",
        "            \"type\": \"image_url\", \"image_url\": \"https://static.nike.com/a/images/t_PDP_1728_v1/f_auto,q_auto:eco/1705ca64-fbc8-4b79-a451-4ab77760c219/dunk-low-older-shoes-C7T1cx.png\",\n",
        "\n",
        "        }\n",
        "    ]\n",
        ")"
      ],
      "metadata": {
        "id": "HnuDXd6HziZj"
      },
      "execution_count": 9,
      "outputs": []
    },
    {
      "cell_type": "code",
      "source": [
        "print(model.invoke([message]).content)"
      ],
      "metadata": {
        "colab": {
          "base_uri": "https://localhost:8080/"
        },
        "id": "z0wydFXGzlGc",
        "outputId": "344f5915-cd7c-4aaf-f305-0f7a42a806c2"
      },
      "execution_count": 10,
      "outputs": [
        {
          "output_type": "stream",
          "name": "stdout",
          "text": [
            "White and grey Nike Dunk low.\n"
          ]
        }
      ]
    },
    {
      "cell_type": "code",
      "source": [
        "loader = TextLoader(\"/content/nike_shoes.txt\")\n",
        "text = loader.load()[0].page_content\n",
        "print(text)"
      ],
      "metadata": {
        "colab": {
          "base_uri": "https://localhost:8080/"
        },
        "id": "hiV3Z3xYznek",
        "outputId": "ce626fd0-4d17-40ab-a453-91cf8b5779d6"
      },
      "execution_count": 11,
      "outputs": [
        {
          "output_type": "stream",
          "name": "stdout",
          "text": [
            "Nike Air Max Plus sneakers. They feature a brown upper with a black Nike Swoosh logo on the side and a visible Air Max unit in the heel. The sole is white.\n",
            "Here are some more details about the Nike Air Max Plus:\n",
            "Style: TN\n",
            "Release date: January 1, 2017\n",
            "Style code: 852630-300\n",
            "Original retail price: $150 USD\n",
            "The Air Max Plus, also known as the TN, is a popular Nike running shoe that was first released in 1998. It is known for its unique design, which includes a gradient upper, visible Air Max units, and a wavy outsole. The TN has been a popular shoe among sneakerheads and casual wearers alike for over two decades.\n",
            "It features a brown upper with a black Swoosh logo and a white sole. The shoe is currently available for resale on the StockX marketplace for an average price of around $150 USD.\n",
            "Nike Air Max Plus Store Location: \"Kings Way, Kathmandu, Nepal\".\n",
            "\\n\\n\\n\n",
            "\n",
            "\n",
            "\n",
            "Nike Dunk Low Retro sneakers.\n",
            "Here are some more details about the Nike Dunk Low Retro:\n",
            "Style: Low-top\n",
            "Release date: October 31, 2020\n",
            "Style code: DD1391-100\n",
            "Original retail price: $100 USD\n",
            "The Dunk Low Retro is a popular Nike skateboarding shoe that was first released in 1985. It is a classic silhouette that has been released in a wide variety of colors and materials over the years.\n",
            "The shoes in the image are currently available for resale on the StockX marketplace for an average price of around $200 USD.\n",
            "Nike Dunk Low Retro sneakers Store Location: \"Patan, Lalitpur, Nepal\".\n",
            "\\n\\n\\n\n",
            "\n",
            "\n",
            "\n",
            "\n",
            "Nike slide/sandal.\n",
            "They appear to be the Nike Slide/Sandal, which is a unisex slide/sandal.\n",
            "Here are some of the features:\n",
            "Soft, one-piece upper: The upper is made of a soft, synthetic material that provides comfort and support.\n",
            "Phylon midsole: The midsole is made of Phylon, which provides cushioning and support.\n",
            "Rubber outsole: The outsole is made of rubber for traction and durability.\n",
            "Swoosh logo: The Nike Swoosh logo is on the strap of the sandal.\n",
            "Available in a variety of colors: The Nike Benassi Solarsoft Sandal is available in a variety of colors, including black, white, and beige.\n",
            "Nike off courte slides store location: \"Bhaktapur, Nepal\".\n",
            "\n"
          ]
        }
      ]
    },
    {
      "cell_type": "code",
      "source": [
        "def get_text_chunks_langchain(text):\n",
        "  text_splitter = CharacterTextSplitter(chunk_size=20, chunk_overlap=10)\n",
        "  docs = [Document(page_content=x) for x in text_splitter.split_text(text)]\n",
        "  return docs"
      ],
      "metadata": {
        "id": "3KkVKOkQ0j_b"
      },
      "execution_count": 12,
      "outputs": []
    },
    {
      "cell_type": "code",
      "source": [
        "docs = get_text_chunks_langchain(text)"
      ],
      "metadata": {
        "colab": {
          "base_uri": "https://localhost:8080/"
        },
        "id": "54xs7OcU0lkK",
        "outputId": "643b4e60-0ba9-4cef-de3b-21b247c50e90"
      },
      "execution_count": 13,
      "outputs": [
        {
          "output_type": "stream",
          "name": "stderr",
          "text": [
            "WARNING:langchain_text_splitters.base:Created a chunk of size 869, which is longer than the specified 20\n",
            "WARNING:langchain_text_splitters.base:Created a chunk of size 588, which is longer than the specified 20\n"
          ]
        }
      ]
    },
    {
      "cell_type": "code",
      "source": [
        "embeddings = GoogleGenerativeAIEmbeddings(model=\"models/embedding-001\")"
      ],
      "metadata": {
        "id": "UzTRtshs1w8a"
      },
      "execution_count": 14,
      "outputs": []
    },
    {
      "cell_type": "code",
      "source": [
        "vectorstore = FAISS.from_documents(docs,embedding=embeddings)"
      ],
      "metadata": {
        "id": "DItzKk7v1_3i"
      },
      "execution_count": 15,
      "outputs": []
    },
    {
      "cell_type": "code",
      "source": [
        "retriever=vectorstore.as_retriever()"
      ],
      "metadata": {
        "id": "Ny0oTeC22CEz"
      },
      "execution_count": 16,
      "outputs": []
    },
    {
      "cell_type": "code",
      "source": [
        "retriever.invoke(\"Nike slide/sandal.\")"
      ],
      "metadata": {
        "colab": {
          "base_uri": "https://localhost:8080/"
        },
        "id": "rjgNxbu82Cts",
        "outputId": "e4b5b5d7-887e-462a-ec7f-3591f596b933"
      },
      "execution_count": 17,
      "outputs": [
        {
          "output_type": "execute_result",
          "data": {
            "text/plain": [
              "[Document(id='dc260cce-ffa2-444d-a196-490ad959ddfb', metadata={}, page_content='Nike slide/sandal.\\nThey appear to be the Nike Slide/Sandal, which is a unisex slide/sandal.\\nHere are some of the features:\\nSoft, one-piece upper: The upper is made of a soft, synthetic material that provides comfort and support.\\nPhylon midsole: The midsole is made of Phylon, which provides cushioning and support.\\nRubber outsole: The outsole is made of rubber for traction and durability.\\nSwoosh logo: The Nike Swoosh logo is on the strap of the sandal.\\nAvailable in a variety of colors: The Nike Benassi Solarsoft Sandal is available in a variety of colors, including black, white, and beige.\\nNike off courte slides store location: \"Bhaktapur, Nepal\".'),\n",
              " Document(id='e2fd3177-f623-4c44-8bc1-5a370e2582a0', metadata={}, page_content='Nike Dunk Low Retro sneakers.\\nHere are some more details about the Nike Dunk Low Retro:\\nStyle: Low-top\\nRelease date: October 31, 2020\\nStyle code: DD1391-100\\nOriginal retail price: $100 USD\\nThe Dunk Low Retro is a popular Nike skateboarding shoe that was first released in 1985. It is a classic silhouette that has been released in a wide variety of colors and materials over the years.\\nThe shoes in the image are currently available for resale on the StockX marketplace for an average price of around $200 USD.\\nNike Dunk Low Retro sneakers Store Location: \"Patan, Lalitpur, Nepal\".\\n\\\\n\\\\n\\\\n'),\n",
              " Document(id='67dce49e-ac2d-4cb3-a702-cd00ff330128', metadata={}, page_content='Nike Air Max Plus sneakers. They feature a brown upper with a black Nike Swoosh logo on the side and a visible Air Max unit in the heel. The sole is white.\\nHere are some more details about the Nike Air Max Plus:\\nStyle: TN\\nRelease date: January 1, 2017\\nStyle code: 852630-300\\nOriginal retail price: $150 USD\\nThe Air Max Plus, also known as the TN, is a popular Nike running shoe that was first released in 1998. It is known for its unique design, which includes a gradient upper, visible Air Max units, and a wavy outsole. The TN has been a popular shoe among sneakerheads and casual wearers alike for over two decades.\\nIt features a brown upper with a black Swoosh logo and a white sole. The shoe is currently available for resale on the StockX marketplace for an average price of around $150 USD.\\nNike Air Max Plus Store Location: \"Kings Way, Kathmandu, Nepal\".\\n\\\\n\\\\n\\\\n')]"
            ]
          },
          "metadata": {},
          "execution_count": 17
        }
      ]
    },
    {
      "cell_type": "code",
      "source": [
        "prompt = ChatPromptTemplate.from_messages([\n",
        "    (\n",
        "        \"human\",\n",
        "        \"You are given an image and some background context.\\n\\n\"\n",
        "        \"Context:\\n{context}\\n\\n\"\n",
        "        \"Query: {query}\\n\\n\"\n",
        "        \"Analyze the image and answer based on both context and query.\"\n",
        "    )\n",
        "])"
      ],
      "metadata": {
        "id": "i1fIhTT62YYW"
      },
      "execution_count": 18,
      "outputs": []
    },
    {
      "cell_type": "code",
      "source": [
        "rag_chain = (\n",
        "    RunnableMap({\n",
        "        \"context\": (lambda x: retriever.invoke(x[\"query\"])),  # retriever only gets query text\n",
        "        \"query\": (lambda x: x[\"query\"]),                     # pass query along\n",
        "        \"image\": (lambda x: x[\"image\"])                      # pass image along\n",
        "    })\n",
        "    | prompt\n",
        "    | model\n",
        ")"
      ],
      "metadata": {
        "id": "TjKb9fRf2afW"
      },
      "execution_count": 19,
      "outputs": []
    },
    {
      "cell_type": "code",
      "source": [
        "result = rag_chain.invoke({\n",
        "    \"query\": \"can you give me a detail of nike present in the image and also provide the store location?\",\n",
        "    \"image\": {\n",
        "        \"type\": \"image_url\",\n",
        "        \"image_url\": \"https://static.nike.com/a/images/t_PDP_1728_v1/f_auto,q_auto:eco/1705ca64-fbc8-4b79-a451-4ab77760c219/dunk-low-older-shoes-C7T1cx.png\"\n",
        "    }\n",
        "})"
      ],
      "metadata": {
        "id": "f1j9hxMw2dOO"
      },
      "execution_count": 20,
      "outputs": []
    },
    {
      "cell_type": "code",
      "source": [
        "display(Markdown(result.content))"
      ],
      "metadata": {
        "colab": {
          "base_uri": "https://localhost:8080/",
          "height": 87
        },
        "id": "TrFVAZEj2gB2",
        "outputId": "7fd055e1-fb97-474d-d378-2ee5c498dfc6"
      },
      "execution_count": 21,
      "outputs": [
        {
          "output_type": "display_data",
          "data": {
            "text/plain": [
              "<IPython.core.display.Markdown object>"
            ],
            "text/markdown": "The image displays Nike Air Max Plus sneakers. These sneakers feature a brown upper with a black Nike Swoosh logo on the side and a visible Air Max unit in the heel, all on a white sole.\n\nThe store location for these Nike Air Max Plus sneakers is Kings Way, Kathmandu, Nepal."
          },
          "metadata": {}
        }
      ]
    },
    {
      "cell_type": "code",
      "source": [],
      "metadata": {
        "id": "Uio3h0RgHhe5"
      },
      "execution_count": 58,
      "outputs": []
    }
  ]
}